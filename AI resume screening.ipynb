{
 "cells": [
  {
   "cell_type": "code",
   "execution_count": 1,
   "id": "4de6b3cd-7fda-4447-ac02-89ff51b4ac4d",
   "metadata": {},
   "outputs": [],
   "source": [
    "import numpy as np\n",
    "import pandas as pd\n",
    "import matplotlib.pyplot as plt\n",
    "import seaborn as sns\n",
    "from sklearn.model_selection import train_test_split\n",
    "from sklearn.feature_extraction.text import TfidfVectorizer\n",
    "from sklearn.ensemble import RandomForestClassifier\n",
    "from sklearn.metrics import accuracy_score, confusion_matrix"
   ]
  },
  {
   "cell_type": "code",
   "execution_count": 2,
   "id": "0530e9cc-4007-4be1-853d-de257a502472",
   "metadata": {},
   "outputs": [],
   "source": [
    "import pandas as pd\n",
    "\n",
    "dataset = pd.read_csv(\"synthetic_resumes_10000.csv\")\n",
    "\n"
   ]
  },
  {
   "cell_type": "code",
   "execution_count": 3,
   "id": "d285290a-2d11-47e3-8974-cf5ffd5b84b7",
   "metadata": {},
   "outputs": [
    {
     "data": {
      "text/html": [
       "<div>\n",
       "<style scoped>\n",
       "    .dataframe tbody tr th:only-of-type {\n",
       "        vertical-align: middle;\n",
       "    }\n",
       "\n",
       "    .dataframe tbody tr th {\n",
       "        vertical-align: top;\n",
       "    }\n",
       "\n",
       "    .dataframe thead th {\n",
       "        text-align: right;\n",
       "    }\n",
       "</style>\n",
       "<table border=\"1\" class=\"dataframe\">\n",
       "  <thead>\n",
       "    <tr style=\"text-align: right;\">\n",
       "      <th></th>\n",
       "      <th>id</th>\n",
       "      <th>name</th>\n",
       "      <th>email</th>\n",
       "      <th>phone</th>\n",
       "      <th>location</th>\n",
       "      <th>target_job_title</th>\n",
       "      <th>summary</th>\n",
       "      <th>education</th>\n",
       "      <th>experience_years</th>\n",
       "      <th>experience_details</th>\n",
       "      <th>skills</th>\n",
       "      <th>certifications</th>\n",
       "      <th>last_updated</th>\n",
       "    </tr>\n",
       "  </thead>\n",
       "  <tbody>\n",
       "    <tr>\n",
       "      <th>0</th>\n",
       "      <td>1</td>\n",
       "      <td>Vihaan Sharma</td>\n",
       "      <td>vihaan.sharma251@gmail.com</td>\n",
       "      <td>9321819600</td>\n",
       "      <td>Gurgaon, India</td>\n",
       "      <td>Machine Learning Engineer</td>\n",
       "      <td>Passionate Machine Learning Engineer with 3 ye...</td>\n",
       "      <td>M.Tech Computer Science, Delhi University (2017)</td>\n",
       "      <td>3</td>\n",
       "      <td>2022-2025: Machine Learning Engineer at DataWo...</td>\n",
       "      <td>Azure;Git;Python;Tableau;PyTorch</td>\n",
       "      <td>IBM Data Science Professional Certificate</td>\n",
       "      <td>2025-09-19</td>\n",
       "    </tr>\n",
       "    <tr>\n",
       "      <th>1</th>\n",
       "      <td>2</td>\n",
       "      <td>Ishaan Gupta</td>\n",
       "      <td>ishaan.gupta981@mail.com</td>\n",
       "      <td>9511615594</td>\n",
       "      <td>Mumbai, India</td>\n",
       "      <td>Data Scientist</td>\n",
       "      <td>11-year experienced Data Scientist with strong...</td>\n",
       "      <td>M.Tech Computer Science, NIT (2021)</td>\n",
       "      <td>11</td>\n",
       "      <td>2014-2025: Data Scientist at Analytica Labs: W...</td>\n",
       "      <td>Tableau;NumPy;Docker;Pandas;Model Deployment;D...</td>\n",
       "      <td>DataCamp Data Scientist</td>\n",
       "      <td>2025-09-19</td>\n",
       "    </tr>\n",
       "    <tr>\n",
       "      <th>2</th>\n",
       "      <td>3</td>\n",
       "      <td>Krishna Kumar</td>\n",
       "      <td>krishna.kumar285@yahoo.com</td>\n",
       "      <td>9752553419</td>\n",
       "      <td>Noida, India</td>\n",
       "      <td>QA Engineer</td>\n",
       "      <td>Passionate QA Engineer with 2 years experience...</td>\n",
       "      <td>M.Sc. Statistics, IIT (2023)</td>\n",
       "      <td>2</td>\n",
       "      <td>2023-2025: QA Engineer at ABC Tech: Worked on ...</td>\n",
       "      <td>Regex;Keras;TensorFlow;AWS;Docker;Machine Lear...</td>\n",
       "      <td>Coursera ML</td>\n",
       "      <td>2025-09-19</td>\n",
       "    </tr>\n",
       "    <tr>\n",
       "      <th>3</th>\n",
       "      <td>4</td>\n",
       "      <td>Ishaan Singh</td>\n",
       "      <td>ishaan.singh936@mail.com</td>\n",
       "      <td>9953767242</td>\n",
       "      <td>Hyderabad, India</td>\n",
       "      <td>Business Analyst</td>\n",
       "      <td>11-year experienced Business Analyst with stro...</td>\n",
       "      <td>B.Sc. Computer Science, VIT (2018)</td>\n",
       "      <td>11</td>\n",
       "      <td>2014-2025: Business Analyst at ABC Tech: Worke...</td>\n",
       "      <td>Tableau;Machine Learning;Regex;Power BI;Kubern...</td>\n",
       "      <td>Coursera ML</td>\n",
       "      <td>2025-09-19</td>\n",
       "    </tr>\n",
       "    <tr>\n",
       "      <th>4</th>\n",
       "      <td>5</td>\n",
       "      <td>Reyansh Malhotra</td>\n",
       "      <td>reyansh.malhotra66@outlook.com</td>\n",
       "      <td>9669784801</td>\n",
       "      <td>Delhi, India</td>\n",
       "      <td>QA Engineer</td>\n",
       "      <td>QA Engineer skilled in Data Visualization, Lin...</td>\n",
       "      <td>BCA, Delhi University (2010)</td>\n",
       "      <td>8</td>\n",
       "      <td>2022-2025: QA Engineer at DataWorks: Worked on...</td>\n",
       "      <td>Data Visualization;Linux;NLP;NumPy;Deep Learni...</td>\n",
       "      <td>Azure AI Engineer</td>\n",
       "      <td>2025-09-19</td>\n",
       "    </tr>\n",
       "  </tbody>\n",
       "</table>\n",
       "</div>"
      ],
      "text/plain": [
       "   id              name                           email       phone  \\\n",
       "0   1     Vihaan Sharma      vihaan.sharma251@gmail.com  9321819600   \n",
       "1   2      Ishaan Gupta        ishaan.gupta981@mail.com  9511615594   \n",
       "2   3     Krishna Kumar      krishna.kumar285@yahoo.com  9752553419   \n",
       "3   4      Ishaan Singh        ishaan.singh936@mail.com  9953767242   \n",
       "4   5  Reyansh Malhotra  reyansh.malhotra66@outlook.com  9669784801   \n",
       "\n",
       "           location           target_job_title  \\\n",
       "0    Gurgaon, India  Machine Learning Engineer   \n",
       "1     Mumbai, India             Data Scientist   \n",
       "2      Noida, India                QA Engineer   \n",
       "3  Hyderabad, India           Business Analyst   \n",
       "4      Delhi, India                QA Engineer   \n",
       "\n",
       "                                             summary  \\\n",
       "0  Passionate Machine Learning Engineer with 3 ye...   \n",
       "1  11-year experienced Data Scientist with strong...   \n",
       "2  Passionate QA Engineer with 2 years experience...   \n",
       "3  11-year experienced Business Analyst with stro...   \n",
       "4  QA Engineer skilled in Data Visualization, Lin...   \n",
       "\n",
       "                                          education  experience_years  \\\n",
       "0  M.Tech Computer Science, Delhi University (2017)                 3   \n",
       "1               M.Tech Computer Science, NIT (2021)                11   \n",
       "2                      M.Sc. Statistics, IIT (2023)                 2   \n",
       "3                B.Sc. Computer Science, VIT (2018)                11   \n",
       "4                      BCA, Delhi University (2010)                 8   \n",
       "\n",
       "                                  experience_details  \\\n",
       "0  2022-2025: Machine Learning Engineer at DataWo...   \n",
       "1  2014-2025: Data Scientist at Analytica Labs: W...   \n",
       "2  2023-2025: QA Engineer at ABC Tech: Worked on ...   \n",
       "3  2014-2025: Business Analyst at ABC Tech: Worke...   \n",
       "4  2022-2025: QA Engineer at DataWorks: Worked on...   \n",
       "\n",
       "                                              skills  \\\n",
       "0                   Azure;Git;Python;Tableau;PyTorch   \n",
       "1  Tableau;NumPy;Docker;Pandas;Model Deployment;D...   \n",
       "2  Regex;Keras;TensorFlow;AWS;Docker;Machine Lear...   \n",
       "3  Tableau;Machine Learning;Regex;Power BI;Kubern...   \n",
       "4  Data Visualization;Linux;NLP;NumPy;Deep Learni...   \n",
       "\n",
       "                              certifications last_updated  \n",
       "0  IBM Data Science Professional Certificate   2025-09-19  \n",
       "1                    DataCamp Data Scientist   2025-09-19  \n",
       "2                                Coursera ML   2025-09-19  \n",
       "3                                Coursera ML   2025-09-19  \n",
       "4                          Azure AI Engineer   2025-09-19  "
      ]
     },
     "execution_count": 3,
     "metadata": {},
     "output_type": "execute_result"
    }
   ],
   "source": [
    "dataset.head()\n"
   ]
  },
  {
   "cell_type": "code",
   "execution_count": 4,
   "id": "5de2e343-b562-4c9d-a3c2-c7a504fb4199",
   "metadata": {},
   "outputs": [
    {
     "data": {
      "text/plain": [
       "'John Doe\\n\\nEmail: johndoe@example.com\\n\\nPhone: +1 234 567 8901\\n\\nEducation\\n\\nMaster of Science in Data Science - ABC University (2022)\\n\\nBachelor of Computer Science - XYZ College (2020)\\n\\nSkills\\n\\nPython, Machine Learning, Deep Learning, SQL, Pandas, NumPy, Scikit-learn, TensorFlow, Data Visualization\\n\\nExperience\\n\\nData Science Intern - TechCorp (Jun 2022 - Dec 2022)\\n\\n- Built ML models for predicting customer churn.\\n\\n- Worked with large datasets using Pandas and SQL.\\n\\n- Created visual dashboards using Matplotlib.\\n\\n\\x0c'"
      ]
     },
     "execution_count": 4,
     "metadata": {},
     "output_type": "execute_result"
    }
   ],
   "source": [
    "import re\n",
    "from pdfminer.high_level import extract_text\n",
    "\n",
    "\n",
    "def extract_text_from_pdf(pdf_path):\n",
    "    return extract_text(pdf_path)\n",
    "\n",
    "\n",
    "resume_path = \"resume.pdf\"\n",
    "text = extract_text_from_pdf(resume_path)\n",
    "text"
   ]
  },
  {
   "cell_type": "code",
   "execution_count": 5,
   "id": "82506159-c311-4d9e-8844-0097296b40a1",
   "metadata": {},
   "outputs": [
    {
     "data": {
      "text/plain": [
       "'1 234 567 8901'"
      ]
     },
     "execution_count": 5,
     "metadata": {},
     "output_type": "execute_result"
    }
   ],
   "source": [
    "import re\n",
    "\n",
    "def extract_contact_number_from_resume(text):\n",
    "    contact_number = None\n",
    "\n",
    "    # Use regex pattern to find a potential contact number\n",
    "    pattern = r\"\\b(?:\\+?\\d{1,3}[-.\\s]?)?\\(?\\d{3}\\)?[-.\\s]?\\d{3}[-.\\s]?\\d{4}\\b\"\n",
    "    match = re.search(pattern, text)\n",
    "    if match:\n",
    "        contact_number = match.group()\n",
    "\n",
    "    return contact_number\n",
    "\n",
    "phone = extract_contact_number_from_resume(text)\n",
    "phone"
   ]
  },
  {
   "cell_type": "code",
   "execution_count": 6,
   "id": "7002c60b-2133-48db-8e63-0aaf72ae97bd",
   "metadata": {},
   "outputs": [
    {
     "data": {
      "text/plain": [
       "'johndoe@example.com'"
      ]
     },
     "execution_count": 6,
     "metadata": {},
     "output_type": "execute_result"
    }
   ],
   "source": [
    "import re\n",
    "\n",
    "def extract_email_from_resume(text):\n",
    "    email = None\n",
    "\n",
    "    # Use regex pattern to find a potential email address\n",
    "    pattern = r\"\\b[A-Za-z0-9._%+-]+@[A-Za-z0-9.-]+\\.[A-Za-z]{2,}\\b\"\n",
    "    match = re.search(pattern, text)\n",
    "    if match:\n",
    "        email = match.group()\n",
    "\n",
    "    return email\n",
    "\n",
    "email = extract_email_from_resume(text)\n",
    "email"
   ]
  },
  {
   "cell_type": "code",
   "execution_count": 7,
   "id": "9980951e-b7cb-429e-8862-e66a705553c5",
   "metadata": {},
   "outputs": [
    {
     "name": "stdout",
     "output_type": "stream",
     "text": [
      "Skills: ['Python', 'Machine Learning', 'Deep Learning', 'SQL', 'Data Visualization', 'Matplotlib', 'Pandas', 'Numpy', 'Scikit-learn', 'TensorFlow']\n"
     ]
    }
   ],
   "source": [
    "import re\n",
    "\n",
    "def extract_skills_from_resume(text, skills_list):\n",
    "    skills = []\n",
    "\n",
    "    for skill in skills_list:\n",
    "        pattern = r\"\\b{}\\b\".format(re.escape(skill))\n",
    "        match = re.search(pattern, text, re.IGNORECASE)\n",
    "        if match:\n",
    "            skills.append(skill)\n",
    "\n",
    "    return skills\n",
    "\n",
    "\n",
    "# List of predefined skills\n",
    "skills_list = [\n",
    "    'Python', 'Data Analysis', 'Machine Learning', 'Communication', 'Project Management', 'Deep Learning', 'SQL', 'Tableau',\n",
    "    'Java', 'C++', 'JavaScript', 'HTML', 'CSS', 'React', 'Angular', 'Node.js', 'MongoDB', 'Express.js', 'Git',\n",
    "    'Research', 'Statistics', 'Quantitative Analysis', 'Qualitative Analysis', 'SPSS', 'R', 'Data Visualization', 'Matplotlib',\n",
    "    'Seaborn', 'Plotly', 'Pandas', 'Numpy', 'Scikit-learn', 'TensorFlow', 'Keras', 'PyTorch', 'NLTK', 'Text Mining',\n",
    "    'Natural Language Processing', 'Computer Vision', 'Image Processing', 'OCR', 'Speech Recognition', 'Recommendation Systems',\n",
    "    'Collaborative Filtering', 'Content-Based Filtering', 'Reinforcement Learning', 'Neural Networks', 'Convolutional Neural Networks',\n",
    "    'Recurrent Neural Networks', 'Generative Adversarial Networks', 'XGBoost', 'Random Forest', 'Decision Trees', 'Support Vector Machines',\n",
    "    'Linear Regression', 'Logistic Regression', 'K-Means Clustering', 'Hierarchical Clustering', 'DBSCAN', 'Association Rule Learning',\n",
    "    'Apache Hadoop', 'Apache Spark', 'MapReduce', 'Hive', 'HBase', 'Apache Kafka', 'Data Warehousing', 'ETL', 'Big Data Analytics',\n",
    "    'Cloud Computing', 'Amazon Web Services (AWS)', 'Microsoft Azure', 'Google Cloud Platform (GCP)', 'Docker', 'Kubernetes', 'Linux',\n",
    "    'Shell Scripting', 'Cybersecurity', 'Network Security', 'Penetration Testing', 'Firewalls', 'Encryption', 'Malware Analysis',\n",
    "    'Digital Forensics', 'CI/CD', 'DevOps', 'Agile Methodology', 'Scrum', 'Kanban', 'Continuous Integration', 'Continuous Deployment',\n",
    "    'Software Development', 'Web Development', 'Mobile Development', 'Backend Development', 'Frontend Development', 'Full-Stack Development',\n",
    "    'UI/UX Design', 'Responsive Design', 'Wireframing', 'Prototyping', 'User Testing', 'Adobe Creative Suite', 'Photoshop', 'Illustrator',\n",
    "    'InDesign', 'Figma', 'Sketch', 'Zeplin', 'InVision', 'Product Management', 'Market Research', 'Customer Development', 'Lean Startup',\n",
    "    'Business Development', 'Sales', 'Marketing', 'Content Marketing', 'Social Media Marketing', 'Email Marketing', 'SEO', 'SEM', 'PPC',\n",
    "    'Google Analytics', 'Facebook Ads', 'LinkedIn Ads', 'Lead Generation', 'Customer Relationship Management (CRM)', 'Salesforce',\n",
    "    'HubSpot', 'Zendesk', 'Intercom', 'Customer Support', 'Technical Support', 'Troubleshooting', 'Ticketing Systems', 'ServiceNow',\n",
    "    'ITIL', 'Quality Assurance', 'Manual Testing', 'Automated Testing', 'Selenium', 'JUnit', 'Load Testing', 'Performance Testing',\n",
    "    'Regression Testing', 'Black Box Testing', 'White Box Testing', 'API Testing', 'Mobile Testing', 'Usability Testing', 'Accessibility Testing',\n",
    "    'Cross-Browser Testing', 'Agile Testing', 'User Acceptance Testing', 'Software Documentation', 'Technical Writing', 'Copywriting',\n",
    "    'Editing', 'Proofreading', 'Content Management Systems (CMS)', 'WordPress', 'Joomla', 'Drupal', 'Magento', 'Shopify', 'E-commerce',\n",
    "    'Payment Gateways', 'Inventory Management', 'Supply Chain Management', 'Logistics', 'Procurement', 'ERP Systems', 'SAP', 'Oracle',\n",
    "    'Microsoft Dynamics', 'Tableau', 'Power BI', 'QlikView', 'Looker', 'Data Warehousing', 'ETL', 'Data Engineering', 'Data Governance',\n",
    "    'Data Quality', 'Master Data Management', 'Predictive Analytics', 'Prescriptive Analytics', 'Descriptive Analytics', 'Business Intelligence',\n",
    "    'Dashboarding', 'Reporting', 'Data Mining', 'Web Scraping', 'API Integration', 'RESTful APIs', 'GraphQL', 'SOAP', 'Microservices',\n",
    "    'Serverless Architecture', 'Lambda Functions', 'Event-Driven Architecture', 'Message Queues', 'GraphQL', 'Socket.io', 'WebSockets'\n",
    "'Ruby', 'Ruby on Rails', 'PHP', 'Symfony', 'Laravel', 'CakePHP', 'Zend Framework', 'ASP.NET', 'C#', 'VB.NET', 'ASP.NET MVC', 'Entity Framework',\n",
    "    'Spring', 'Hibernate', 'Struts', 'Kotlin', 'Swift', 'Objective-C', 'iOS Development', 'Android Development', 'Flutter', 'React Native', 'Ionic',\n",
    "    'Mobile UI/UX Design', 'Material Design', 'SwiftUI', 'RxJava', 'RxSwift', 'Django', 'Flask', 'FastAPI', 'Falcon', 'Tornado', 'WebSockets',\n",
    "    'GraphQL', 'RESTful Web Services', 'SOAP', 'Microservices Architecture', 'Serverless Computing', 'AWS Lambda', 'Google Cloud Functions',\n",
    "    'Azure Functions', 'Server Administration', 'System Administration', 'Network Administration', 'Database Administration', 'MySQL', 'PostgreSQL',\n",
    "    'SQLite', 'Microsoft SQL Server', 'Oracle Database', 'NoSQL', 'MongoDB', 'Cassandra', 'Redis', 'Elasticsearch', 'Firebase', 'Google Analytics',\n",
    "    'Google Tag Manager', 'Adobe Analytics', 'Marketing Automation', 'Customer Data Platforms', 'Segment', 'Salesforce Marketing Cloud', 'HubSpot CRM',\n",
    "    'Zapier', 'IFTTT', 'Workflow Automation', 'Robotic Process Automation (RPA)', 'UI Automation', 'Natural Language Generation (NLG)',\n",
    "    'Virtual Reality (VR)', 'Augmented Reality (AR)', 'Mixed Reality (MR)', 'Unity', 'Unreal Engine', '3D Modeling', 'Animation', 'Motion Graphics',\n",
    "    'Game Design', 'Game Development', 'Level Design', 'Unity3D', 'Unreal Engine 4', 'Blender', 'Maya', 'Adobe After Effects', 'Adobe Premiere Pro',\n",
    "    'Final Cut Pro', 'Video Editing', 'Audio Editing', 'Sound Design', 'Music Production', 'Digital Marketing', 'Content Strategy', 'Conversion Rate Optimization (CRO)',\n",
    "    'A/B Testing', 'Customer Experience (CX)', 'User Experience (UX)', 'User Interface (UI)', 'Persona Development', 'User Journey Mapping', 'Information Architecture (IA)',\n",
    "    'Wireframing', 'Prototyping', 'Usability Testing', 'Accessibility Compliance', 'Internationalization (I18n)', 'Localization (L10n)', 'Voice User Interface (VUI)',\n",
    "    'Chatbots', 'Natural Language Understanding (NLU)', 'Speech Synthesis', 'Emotion Detection', 'Sentiment Analysis', 'Image Recognition', 'Object Detection',\n",
    "    'Facial Recognition', 'Gesture Recognition', 'Document Recognition', 'Fraud Detection', 'Cyber Threat Intelligence', 'Security Information and Event Management (SIEM)',\n",
    "    'Vulnerability Assessment', 'Incident Response', 'Forensic Analysis', 'Security Operations Center (SOC)', 'Identity and Access Management (IAM)', 'Single Sign-On (SSO)',\n",
    "    'Multi-Factor Authentication (MFA)', 'Blockchain', 'Cryptocurrency', 'Decentralized Finance (DeFi)', 'Smart Contracts', 'Web3', 'Non-Fungible Tokens (NFTs)']\n",
    "\n",
    "extracted_skills = extract_skills_from_resume(text, skills_list)\n",
    "\n",
    "if extracted_skills:\n",
    "    print(\"Skills:\", extracted_skills)\n",
    "else:\n",
    "    print(\"No skills found\")"
   ]
  },
  {
   "cell_type": "code",
   "execution_count": 8,
   "id": "9867e716-a3ac-49d1-9594-50ce7826f236",
   "metadata": {},
   "outputs": [
    {
     "name": "stdout",
     "output_type": "stream",
     "text": [
      "Education: ['Computer Science', 'Education', 'Data Science']\n"
     ]
    }
   ],
   "source": [
    "import re\n",
    "\n",
    "def extract_education_from_resume(text):\n",
    "    education = []\n",
    "\n",
    "    # List of education keywords to match against\n",
    "    education_keywords = [\n",
    "        'Computer Science', 'Information Technology', 'Software Engineering', 'Electrical Engineering', 'Mechanical Engineering', 'Civil Engineering',\n",
    "        'Chemical Engineering', 'Biomedical Engineering', 'Aerospace Engineering', 'Nuclear Engineering', 'Industrial Engineering', 'Systems Engineering',\n",
    "        'Environmental Engineering', 'Petroleum Engineering', 'Geological Engineering', 'Marine Engineering', 'Robotics Engineering', 'Biotechnology',\n",
    "        'Biochemistry', 'Microbiology', 'Genetics', 'Molecular Biology', 'Bioinformatics', 'Neuroscience', 'Biophysics', 'Biostatistics', 'Pharmacology',\n",
    "        'Physiology', 'Anatomy', 'Pathology', 'Immunology', 'Epidemiology', 'Public Health', 'Health Administration', 'Nursing', 'Medicine', 'Dentistry',\n",
    "        'Pharmacy', 'Veterinary Medicine', 'Medical Technology', 'Radiography', 'Physical Therapy', 'Occupational Therapy', 'Speech Therapy', 'Nutrition',\n",
    "        'Sports Science', 'Kinesiology', 'Exercise Physiology', 'Sports Medicine', 'Rehabilitation Science', 'Psychology', 'Counseling', 'Social Work',\n",
    "        'Sociology', 'Anthropology', 'Criminal Justice', 'Political Science', 'International Relations', 'Economics', 'Finance', 'Accounting', 'Business Administration',\n",
    "        'Management', 'Marketing', 'Entrepreneurship', 'Hospitality Management', 'Tourism Management', 'Supply Chain Management', 'Logistics Management',\n",
    "        'Operations Management', 'Human Resource Management', 'Organizational Behavior', 'Project Management', 'Quality Management', 'Risk Management',\n",
    "        'Strategic Management', 'Public Administration', 'Urban Planning', 'Architecture', 'Interior Design', 'Landscape Architecture', 'Fine Arts',\n",
    "        'Visual Arts', 'Graphic Design', 'Fashion Design', 'Industrial Design', 'Product Design', 'Animation', 'Film Studies', 'Media Studies',\n",
    "        'Communication Studies', 'Journalism', 'Broadcasting', 'Creative Writing', 'English Literature', 'Linguistics', 'Translation Studies',\n",
    "        'Foreign Languages', 'Modern Languages', 'Classical Studies', 'History', 'Archaeology', 'Philosophy', 'Theology', 'Religious Studies',\n",
    "        'Ethics', 'Education', 'Early Childhood Education', 'Elementary Education', 'Secondary Education', 'Special Education', 'Higher Education',\n",
    "        'Adult Education', 'Distance Education', 'Online Education', 'Instructional Design', 'Curriculum Development'\n",
    "        'Library Science', 'Information Science', 'Computer Engineering', 'Software Development', 'Cybersecurity', 'Information Security',\n",
    "        'Network Engineering', 'Data Science', 'Data Analytics', 'Business Analytics', 'Operations Research', 'Decision Sciences',\n",
    "        'Human-Computer Interaction', 'User Experience Design', 'User Interface Design', 'Digital Marketing', 'Content Strategy',\n",
    "        'Brand Management', 'Public Relations', 'Corporate Communications', 'Media Production', 'Digital Media', 'Web Development',\n",
    "        'Mobile App Development', 'Game Development', 'Virtual Reality', 'Augmented Reality', 'Blockchain Technology', 'Cryptocurrency',\n",
    "        'Digital Forensics', 'Forensic Science', 'Criminalistics', 'Crime Scene Investigation', 'Emergency Management', 'Fire Science',\n",
    "        'Environmental Science', 'Climate Science', 'Meteorology', 'Geography', 'Geomatics', 'Remote Sensing', 'Geoinformatics',\n",
    "        'Cartography', 'GIS (Geographic Information Systems)', 'Environmental Management', 'Sustainability Studies', 'Renewable Energy',\n",
    "        'Green Technology', 'Ecology', 'Conservation Biology', 'Wildlife Biology', 'Zoology']\n",
    "\n",
    "    for keyword in education_keywords:\n",
    "        pattern = r\"(?i)\\b{}\\b\".format(re.escape(keyword))\n",
    "        match = re.search(pattern, text)\n",
    "        if match:\n",
    "            education.append(match.group())\n",
    "\n",
    "    return education\n",
    "\n",
    "extracted_education = extract_education_from_resume(text)\n",
    "if extracted_education:\n",
    "    print(\"Education:\", extracted_education)\n",
    "else:\n",
    "    print(\"No education information found\")"
   ]
  },
  {
   "cell_type": "code",
   "execution_count": 9,
   "id": "96413030-0498-441e-b015-4978c4418a19",
   "metadata": {},
   "outputs": [
    {
     "name": "stdout",
     "output_type": "stream",
     "text": [
      "Name: John Doe\n"
     ]
    }
   ],
   "source": [
    "def extract_name_from_resume(text):\n",
    "    name = None\n",
    "\n",
    "    # Use regex pattern to find a potential name\n",
    "    pattern = r\"(\\b[A-Z][a-z]+\\b)\\s(\\b[A-Z][a-z]+\\b)\"\n",
    "    match = re.search(pattern, text)\n",
    "    if match:\n",
    "        name = match.group()\n",
    "\n",
    "    return name\n",
    "\n",
    "name = extract_name_from_resume(text)\n",
    "\n",
    "if name:\n",
    "    print(\"Name:\", name)\n",
    "else:\n",
    "    print(\"Name not found\")"
   ]
  },
  {
   "cell_type": "code",
   "execution_count": 10,
   "id": "667bd718-acf4-4a98-9932-7bc472ce0be3",
   "metadata": {},
   "outputs": [],
   "source": [
    "\n",
    "\n",
    "# Load dataset\n",
    "df = pd.read_csv(r\"C:\\Users\\dellll\\Downloads\\synthetic_resumes_10000.csv\")\n",
    "\n",
    "# Extract the columns you want\n",
    "new_dataset = df[[\"id\",\"target_job_title\",\"summary\",\"education\",\"skills\"]]\n",
    "\n",
    "# Save to CSV\n",
    "new_dataset.to_csv(\"synthetic_resumes_selected_columns.csv\", index=False)\n",
    "\n",
    "\n"
   ]
  },
  {
   "cell_type": "code",
   "execution_count": 11,
   "id": "e038a600-1173-48a5-8eb4-44803d74ee5b",
   "metadata": {},
   "outputs": [
    {
     "data": {
      "text/html": [
       "<div>\n",
       "<style scoped>\n",
       "    .dataframe tbody tr th:only-of-type {\n",
       "        vertical-align: middle;\n",
       "    }\n",
       "\n",
       "    .dataframe tbody tr th {\n",
       "        vertical-align: top;\n",
       "    }\n",
       "\n",
       "    .dataframe thead th {\n",
       "        text-align: right;\n",
       "    }\n",
       "</style>\n",
       "<table border=\"1\" class=\"dataframe\">\n",
       "  <thead>\n",
       "    <tr style=\"text-align: right;\">\n",
       "      <th></th>\n",
       "      <th>id</th>\n",
       "      <th>target_job_title</th>\n",
       "      <th>summary</th>\n",
       "      <th>education</th>\n",
       "      <th>skills</th>\n",
       "    </tr>\n",
       "  </thead>\n",
       "  <tbody>\n",
       "    <tr>\n",
       "      <th>0</th>\n",
       "      <td>1</td>\n",
       "      <td>Machine Learning Engineer</td>\n",
       "      <td>Passionate Machine Learning Engineer with 3 ye...</td>\n",
       "      <td>M.Tech Computer Science, Delhi University (2017)</td>\n",
       "      <td>Azure;Git;Python;Tableau;PyTorch</td>\n",
       "    </tr>\n",
       "    <tr>\n",
       "      <th>1</th>\n",
       "      <td>2</td>\n",
       "      <td>Data Scientist</td>\n",
       "      <td>11-year experienced Data Scientist with strong...</td>\n",
       "      <td>M.Tech Computer Science, NIT (2021)</td>\n",
       "      <td>Tableau;NumPy;Docker;Pandas;Model Deployment;D...</td>\n",
       "    </tr>\n",
       "    <tr>\n",
       "      <th>2</th>\n",
       "      <td>3</td>\n",
       "      <td>QA Engineer</td>\n",
       "      <td>Passionate QA Engineer with 2 years experience...</td>\n",
       "      <td>M.Sc. Statistics, IIT (2023)</td>\n",
       "      <td>Regex;Keras;TensorFlow;AWS;Docker;Machine Lear...</td>\n",
       "    </tr>\n",
       "    <tr>\n",
       "      <th>3</th>\n",
       "      <td>4</td>\n",
       "      <td>Business Analyst</td>\n",
       "      <td>11-year experienced Business Analyst with stro...</td>\n",
       "      <td>B.Sc. Computer Science, VIT (2018)</td>\n",
       "      <td>Tableau;Machine Learning;Regex;Power BI;Kubern...</td>\n",
       "    </tr>\n",
       "    <tr>\n",
       "      <th>4</th>\n",
       "      <td>5</td>\n",
       "      <td>QA Engineer</td>\n",
       "      <td>QA Engineer skilled in Data Visualization, Lin...</td>\n",
       "      <td>BCA, Delhi University (2010)</td>\n",
       "      <td>Data Visualization;Linux;NLP;NumPy;Deep Learni...</td>\n",
       "    </tr>\n",
       "  </tbody>\n",
       "</table>\n",
       "</div>"
      ],
      "text/plain": [
       "   id           target_job_title  \\\n",
       "0   1  Machine Learning Engineer   \n",
       "1   2             Data Scientist   \n",
       "2   3                QA Engineer   \n",
       "3   4           Business Analyst   \n",
       "4   5                QA Engineer   \n",
       "\n",
       "                                             summary  \\\n",
       "0  Passionate Machine Learning Engineer with 3 ye...   \n",
       "1  11-year experienced Data Scientist with strong...   \n",
       "2  Passionate QA Engineer with 2 years experience...   \n",
       "3  11-year experienced Business Analyst with stro...   \n",
       "4  QA Engineer skilled in Data Visualization, Lin...   \n",
       "\n",
       "                                          education  \\\n",
       "0  M.Tech Computer Science, Delhi University (2017)   \n",
       "1               M.Tech Computer Science, NIT (2021)   \n",
       "2                      M.Sc. Statistics, IIT (2023)   \n",
       "3                B.Sc. Computer Science, VIT (2018)   \n",
       "4                      BCA, Delhi University (2010)   \n",
       "\n",
       "                                              skills  \n",
       "0                   Azure;Git;Python;Tableau;PyTorch  \n",
       "1  Tableau;NumPy;Docker;Pandas;Model Deployment;D...  \n",
       "2  Regex;Keras;TensorFlow;AWS;Docker;Machine Lear...  \n",
       "3  Tableau;Machine Learning;Regex;Power BI;Kubern...  \n",
       "4  Data Visualization;Linux;NLP;NumPy;Deep Learni...  "
      ]
     },
     "execution_count": 11,
     "metadata": {},
     "output_type": "execute_result"
    }
   ],
   "source": [
    "new_dataset.head()"
   ]
  },
  {
   "cell_type": "code",
   "execution_count": 12,
   "id": "50c370f0-a002-42f7-a7bf-e997a233f650",
   "metadata": {},
   "outputs": [
    {
     "data": {
      "text/plain": [
       "'Passionate QA Engineer with 2 years experience in data-driven solutions using Regex, Keras, TensorFlow. Experienced in model deployment and data pipelines.'"
      ]
     },
     "execution_count": 12,
     "metadata": {},
     "output_type": "execute_result"
    }
   ],
   "source": [
    "new_dataset.iloc[2].summary"
   ]
  },
  {
   "cell_type": "code",
   "execution_count": 13,
   "id": "6f83976c-23a1-449d-80ac-f7d0ff5d6b4b",
   "metadata": {},
   "outputs": [
    {
     "data": {
      "text/plain": [
       "id                  10000\n",
       "target_job_title    10000\n",
       "summary             10000\n",
       "education           10000\n",
       "skills              10000\n",
       "dtype: int64"
      ]
     },
     "execution_count": 13,
     "metadata": {},
     "output_type": "execute_result"
    }
   ],
   "source": [
    "new_dataset.count()"
   ]
  },
  {
   "cell_type": "code",
   "execution_count": 14,
   "id": "81b256b7-1045-4e78-818f-3de470d06d54",
   "metadata": {},
   "outputs": [
    {
     "data": {
      "text/plain": [
       "id                  0\n",
       "target_job_title    0\n",
       "summary             0\n",
       "education           0\n",
       "skills              0\n",
       "dtype: int64"
      ]
     },
     "execution_count": 14,
     "metadata": {},
     "output_type": "execute_result"
    }
   ],
   "source": [
    "new_dataset.isnull().sum()"
   ]
  },
  {
   "cell_type": "code",
   "execution_count": 15,
   "id": "eee9fdf2-698c-420e-87d9-df48ebfec00e",
   "metadata": {},
   "outputs": [
    {
     "data": {
      "text/plain": [
       "target_job_title\n",
       "QA Engineer                  871\n",
       "Machine Learning Engineer    866\n",
       "Data Analyst                 858\n",
       "Backend Developer            857\n",
       "Frontend Developer           848\n",
       "NLP Engineer                 841\n",
       "Data Scientist               837\n",
       "Business Analyst             813\n",
       "DevOps Engineer              813\n",
       "Software Engineer            806\n",
       "Full Stack Developer         801\n",
       "Computer Vision Engineer     789\n",
       "Name: count, dtype: int64"
      ]
     },
     "execution_count": 15,
     "metadata": {},
     "output_type": "execute_result"
    }
   ],
   "source": [
    "new_dataset['target_job_title'].value_counts()"
   ]
  },
  {
   "cell_type": "code",
   "execution_count": 16,
   "id": "1f6d8201-0fa0-4e19-9e48-21df1d779d81",
   "metadata": {},
   "outputs": [
    {
     "data": {
      "text/plain": [
       "'Passionate Machine Learning Engineer with 3 years experience in data-driven solutions using Azure, Git, Python. Experienced in model deployment and data pipelines.'"
      ]
     },
     "execution_count": 16,
     "metadata": {},
     "output_type": "execute_result"
    }
   ],
   "source": [
    "new_dataset.iloc[0].summary"
   ]
  },
  {
   "cell_type": "code",
   "execution_count": 17,
   "id": "2b23e488-a668-44fb-a3b0-d5aeaf348295",
   "metadata": {},
   "outputs": [
    {
     "data": {
      "text/html": [
       "<div>\n",
       "<style scoped>\n",
       "    .dataframe tbody tr th:only-of-type {\n",
       "        vertical-align: middle;\n",
       "    }\n",
       "\n",
       "    .dataframe tbody tr th {\n",
       "        vertical-align: top;\n",
       "    }\n",
       "\n",
       "    .dataframe thead th {\n",
       "        text-align: right;\n",
       "    }\n",
       "</style>\n",
       "<table border=\"1\" class=\"dataframe\">\n",
       "  <thead>\n",
       "    <tr style=\"text-align: right;\">\n",
       "      <th></th>\n",
       "      <th>id</th>\n",
       "      <th>target_job_title</th>\n",
       "      <th>summary</th>\n",
       "      <th>education</th>\n",
       "      <th>skills</th>\n",
       "    </tr>\n",
       "  </thead>\n",
       "  <tbody>\n",
       "    <tr>\n",
       "      <th>0</th>\n",
       "      <td>1</td>\n",
       "      <td>Machine Learning Engineer</td>\n",
       "      <td>Passionate Machine Learning Engineer with 3 ye...</td>\n",
       "      <td>M.Tech Computer Science, Delhi University (2017)</td>\n",
       "      <td>Azure;Git;Python;Tableau;PyTorch</td>\n",
       "    </tr>\n",
       "    <tr>\n",
       "      <th>1</th>\n",
       "      <td>2</td>\n",
       "      <td>Data Scientist</td>\n",
       "      <td>11-year experienced Data Scientist with strong...</td>\n",
       "      <td>M.Tech Computer Science, NIT (2021)</td>\n",
       "      <td>Tableau;NumPy;Docker;Pandas;Model Deployment;D...</td>\n",
       "    </tr>\n",
       "    <tr>\n",
       "      <th>2</th>\n",
       "      <td>3</td>\n",
       "      <td>QA Engineer</td>\n",
       "      <td>Passionate QA Engineer with 2 years experience...</td>\n",
       "      <td>M.Sc. Statistics, IIT (2023)</td>\n",
       "      <td>Regex;Keras;TensorFlow;AWS;Docker;Machine Lear...</td>\n",
       "    </tr>\n",
       "    <tr>\n",
       "      <th>3</th>\n",
       "      <td>4</td>\n",
       "      <td>Business Analyst</td>\n",
       "      <td>11-year experienced Business Analyst with stro...</td>\n",
       "      <td>B.Sc. Computer Science, VIT (2018)</td>\n",
       "      <td>Tableau;Machine Learning;Regex;Power BI;Kubern...</td>\n",
       "    </tr>\n",
       "    <tr>\n",
       "      <th>4</th>\n",
       "      <td>5</td>\n",
       "      <td>QA Engineer</td>\n",
       "      <td>QA Engineer skilled in Data Visualization, Lin...</td>\n",
       "      <td>BCA, Delhi University (2010)</td>\n",
       "      <td>Data Visualization;Linux;NLP;NumPy;Deep Learni...</td>\n",
       "    </tr>\n",
       "  </tbody>\n",
       "</table>\n",
       "</div>"
      ],
      "text/plain": [
       "   id           target_job_title  \\\n",
       "0   1  Machine Learning Engineer   \n",
       "1   2             Data Scientist   \n",
       "2   3                QA Engineer   \n",
       "3   4           Business Analyst   \n",
       "4   5                QA Engineer   \n",
       "\n",
       "                                             summary  \\\n",
       "0  Passionate Machine Learning Engineer with 3 ye...   \n",
       "1  11-year experienced Data Scientist with strong...   \n",
       "2  Passionate QA Engineer with 2 years experience...   \n",
       "3  11-year experienced Business Analyst with stro...   \n",
       "4  QA Engineer skilled in Data Visualization, Lin...   \n",
       "\n",
       "                                          education  \\\n",
       "0  M.Tech Computer Science, Delhi University (2017)   \n",
       "1               M.Tech Computer Science, NIT (2021)   \n",
       "2                      M.Sc. Statistics, IIT (2023)   \n",
       "3                B.Sc. Computer Science, VIT (2018)   \n",
       "4                      BCA, Delhi University (2010)   \n",
       "\n",
       "                                              skills  \n",
       "0                   Azure;Git;Python;Tableau;PyTorch  \n",
       "1  Tableau;NumPy;Docker;Pandas;Model Deployment;D...  \n",
       "2  Regex;Keras;TensorFlow;AWS;Docker;Machine Lear...  \n",
       "3  Tableau;Machine Learning;Regex;Power BI;Kubern...  \n",
       "4  Data Visualization;Linux;NLP;NumPy;Deep Learni...  "
      ]
     },
     "execution_count": 17,
     "metadata": {},
     "output_type": "execute_result"
    }
   ],
   "source": [
    "new_dataset.head()"
   ]
  },
  {
   "cell_type": "code",
   "execution_count": 18,
   "id": "30753beb-33fb-4822-8da1-66be6976fab6",
   "metadata": {},
   "outputs": [
    {
     "name": "stderr",
     "output_type": "stream",
     "text": [
      "[nltk_data] Downloading package stopwords to\n",
      "[nltk_data]     C:\\Users\\dellll\\AppData\\Roaming\\nltk_data...\n",
      "[nltk_data]   Package stopwords is already up-to-date!\n",
      "C:\\Users\\dellll\\AppData\\Local\\Temp\\ipykernel_14592\\79201188.py:29: SettingWithCopyWarning: \n",
      "A value is trying to be set on a copy of a slice from a DataFrame.\n",
      "Try using .loc[row_indexer,col_indexer] = value instead\n",
      "\n",
      "See the caveats in the documentation: https://pandas.pydata.org/pandas-docs/stable/user_guide/indexing.html#returning-a-view-versus-a-copy\n",
      "  new_dataset[\"clean_summary\"]        = new_dataset[\"summary\"].apply(preprocess_resume)\n",
      "C:\\Users\\dellll\\AppData\\Local\\Temp\\ipykernel_14592\\79201188.py:30: SettingWithCopyWarning: \n",
      "A value is trying to be set on a copy of a slice from a DataFrame.\n",
      "Try using .loc[row_indexer,col_indexer] = value instead\n",
      "\n",
      "See the caveats in the documentation: https://pandas.pydata.org/pandas-docs/stable/user_guide/indexing.html#returning-a-view-versus-a-copy\n",
      "  new_dataset[\"clean_job_title\"]      = new_dataset[\"target_job_title\"].apply(preprocess_resume)\n",
      "C:\\Users\\dellll\\AppData\\Local\\Temp\\ipykernel_14592\\79201188.py:31: SettingWithCopyWarning: \n",
      "A value is trying to be set on a copy of a slice from a DataFrame.\n",
      "Try using .loc[row_indexer,col_indexer] = value instead\n",
      "\n",
      "See the caveats in the documentation: https://pandas.pydata.org/pandas-docs/stable/user_guide/indexing.html#returning-a-view-versus-a-copy\n",
      "  new_dataset[\"clean_education\"]      = new_dataset[\"education\"].apply(preprocess_resume)\n",
      "C:\\Users\\dellll\\AppData\\Local\\Temp\\ipykernel_14592\\79201188.py:32: SettingWithCopyWarning: \n",
      "A value is trying to be set on a copy of a slice from a DataFrame.\n",
      "Try using .loc[row_indexer,col_indexer] = value instead\n",
      "\n",
      "See the caveats in the documentation: https://pandas.pydata.org/pandas-docs/stable/user_guide/indexing.html#returning-a-view-versus-a-copy\n",
      "  new_dataset[\"clean_skills\"]         = new_dataset[\"skills\"].apply(preprocess_resume)\n"
     ]
    }
   ],
   "source": [
    "import re\n",
    "import nltk\n",
    "from nltk.corpus import stopwords\n",
    "\n",
    "# Download stopwords once\n",
    "nltk.download(\"stopwords\")\n",
    "\n",
    "# Define stop words\n",
    "stop_words = set(stopwords.words(\"english\"))\n",
    "\n",
    "# Cleaning function\n",
    "def cleanResume(txt):\n",
    "    cleanText = re.sub('http\\S+\\s', ' ', txt)  # remove urls\n",
    "    cleanText = re.sub('RT|cc', ' ', cleanText)  \n",
    "    cleanText = re.sub('#\\S+\\s', ' ', cleanText)  # remove hashtags\n",
    "    cleanText = re.sub('@\\S+', ' ', cleanText)   # remove mentions\n",
    "    cleanText = re.sub('[%s]' % re.escape(\"\"\"!\"#$%&'()*+,-./:;<=>?@[\\]^_`{|}~\"\"\"), ' ', cleanText)  # remove punctuation\n",
    "    cleanText = re.sub(r'[^\\x00-\\x7f]', ' ', cleanText)  # remove non-ASCII\n",
    "    cleanText = re.sub('\\s+', ' ', cleanText)  # remove extra spaces\n",
    "    return cleanText.strip()\n",
    "\n",
    "# Function that also removes stopwords\n",
    "def preprocess_resume(txt):\n",
    "    txt = cleanResume(txt)\n",
    "    txt = \" \".join([word for word in txt.split() if word.lower() not in stop_words])\n",
    "    return txt\n",
    "\n",
    "# Apply cleaning to multiple columns\n",
    "new_dataset[\"clean_summary\"]        = new_dataset[\"summary\"].apply(preprocess_resume)\n",
    "new_dataset[\"clean_job_title\"]      = new_dataset[\"target_job_title\"].apply(preprocess_resume)\n",
    "new_dataset[\"clean_education\"]      = new_dataset[\"education\"].apply(preprocess_resume)\n",
    "new_dataset[\"clean_skills\"]         = new_dataset[\"skills\"].apply(preprocess_resume)\n",
    "\n",
    "\n"
   ]
  },
  {
   "cell_type": "code",
   "execution_count": 19,
   "id": "fdd99391-5ea3-47ae-8bc9-bd54e3a336f3",
   "metadata": {},
   "outputs": [
    {
     "data": {
      "text/plain": [
       "'Data Visualization;Linux;NLP;NumPy;Deep Learning;Kubernetes'"
      ]
     },
     "execution_count": 19,
     "metadata": {},
     "output_type": "execute_result"
    }
   ],
   "source": [
    "new_dataset.iloc[4].skills"
   ]
  },
  {
   "cell_type": "code",
   "execution_count": 20,
   "id": "0da62a28-2cd2-4a89-b3a5-9b6295e594e2",
   "metadata": {},
   "outputs": [
    {
     "data": {
      "text/html": [
       "<div>\n",
       "<style scoped>\n",
       "    .dataframe tbody tr th:only-of-type {\n",
       "        vertical-align: middle;\n",
       "    }\n",
       "\n",
       "    .dataframe tbody tr th {\n",
       "        vertical-align: top;\n",
       "    }\n",
       "\n",
       "    .dataframe thead th {\n",
       "        text-align: right;\n",
       "    }\n",
       "</style>\n",
       "<table border=\"1\" class=\"dataframe\">\n",
       "  <thead>\n",
       "    <tr style=\"text-align: right;\">\n",
       "      <th></th>\n",
       "      <th>id</th>\n",
       "      <th>target_job_title</th>\n",
       "      <th>summary</th>\n",
       "      <th>education</th>\n",
       "      <th>skills</th>\n",
       "      <th>clean_summary</th>\n",
       "      <th>clean_job_title</th>\n",
       "      <th>clean_education</th>\n",
       "      <th>clean_skills</th>\n",
       "    </tr>\n",
       "  </thead>\n",
       "  <tbody>\n",
       "    <tr>\n",
       "      <th>0</th>\n",
       "      <td>1</td>\n",
       "      <td>Machine Learning Engineer</td>\n",
       "      <td>Passionate Machine Learning Engineer with 3 ye...</td>\n",
       "      <td>M.Tech Computer Science, Delhi University (2017)</td>\n",
       "      <td>Azure;Git;Python;Tableau;PyTorch</td>\n",
       "      <td>Passionate Machine Learning Engineer 3 years e...</td>\n",
       "      <td>Machine Learning Engineer</td>\n",
       "      <td>Tech Computer Science Delhi University 2017</td>\n",
       "      <td>Azure Git Python Tableau PyTorch</td>\n",
       "    </tr>\n",
       "    <tr>\n",
       "      <th>1</th>\n",
       "      <td>2</td>\n",
       "      <td>Data Scientist</td>\n",
       "      <td>11-year experienced Data Scientist with strong...</td>\n",
       "      <td>M.Tech Computer Science, NIT (2021)</td>\n",
       "      <td>Tableau;NumPy;Docker;Pandas;Model Deployment;D...</td>\n",
       "      <td>11 year experienced Data Scientist strong back...</td>\n",
       "      <td>Data Scientist</td>\n",
       "      <td>Tech Computer Science NIT 2021</td>\n",
       "      <td>Tableau NumPy Docker Pandas Model Deployment D...</td>\n",
       "    </tr>\n",
       "    <tr>\n",
       "      <th>2</th>\n",
       "      <td>3</td>\n",
       "      <td>QA Engineer</td>\n",
       "      <td>Passionate QA Engineer with 2 years experience...</td>\n",
       "      <td>M.Sc. Statistics, IIT (2023)</td>\n",
       "      <td>Regex;Keras;TensorFlow;AWS;Docker;Machine Lear...</td>\n",
       "      <td>Passionate QA Engineer 2 years experience data...</td>\n",
       "      <td>QA Engineer</td>\n",
       "      <td>Sc Statistics IIT 2023</td>\n",
       "      <td>Regex Keras TensorFlow AWS Docker Machine Lear...</td>\n",
       "    </tr>\n",
       "    <tr>\n",
       "      <th>3</th>\n",
       "      <td>4</td>\n",
       "      <td>Business Analyst</td>\n",
       "      <td>11-year experienced Business Analyst with stro...</td>\n",
       "      <td>B.Sc. Computer Science, VIT (2018)</td>\n",
       "      <td>Tableau;Machine Learning;Regex;Power BI;Kubern...</td>\n",
       "      <td>11 year experienced Business Analyst strong ba...</td>\n",
       "      <td>Business Analyst</td>\n",
       "      <td>B Sc Computer Science VIT 2018</td>\n",
       "      <td>Tableau Machine Learning Regex Power BI Kubern...</td>\n",
       "    </tr>\n",
       "    <tr>\n",
       "      <th>4</th>\n",
       "      <td>5</td>\n",
       "      <td>QA Engineer</td>\n",
       "      <td>QA Engineer skilled in Data Visualization, Lin...</td>\n",
       "      <td>BCA, Delhi University (2010)</td>\n",
       "      <td>Data Visualization;Linux;NLP;NumPy;Deep Learni...</td>\n",
       "      <td>QA Engineer skilled Data Visualization Linux N...</td>\n",
       "      <td>QA Engineer</td>\n",
       "      <td>BCA Delhi University 2010</td>\n",
       "      <td>Data Visualization Linux NLP NumPy Deep Learni...</td>\n",
       "    </tr>\n",
       "  </tbody>\n",
       "</table>\n",
       "</div>"
      ],
      "text/plain": [
       "   id           target_job_title  \\\n",
       "0   1  Machine Learning Engineer   \n",
       "1   2             Data Scientist   \n",
       "2   3                QA Engineer   \n",
       "3   4           Business Analyst   \n",
       "4   5                QA Engineer   \n",
       "\n",
       "                                             summary  \\\n",
       "0  Passionate Machine Learning Engineer with 3 ye...   \n",
       "1  11-year experienced Data Scientist with strong...   \n",
       "2  Passionate QA Engineer with 2 years experience...   \n",
       "3  11-year experienced Business Analyst with stro...   \n",
       "4  QA Engineer skilled in Data Visualization, Lin...   \n",
       "\n",
       "                                          education  \\\n",
       "0  M.Tech Computer Science, Delhi University (2017)   \n",
       "1               M.Tech Computer Science, NIT (2021)   \n",
       "2                      M.Sc. Statistics, IIT (2023)   \n",
       "3                B.Sc. Computer Science, VIT (2018)   \n",
       "4                      BCA, Delhi University (2010)   \n",
       "\n",
       "                                              skills  \\\n",
       "0                   Azure;Git;Python;Tableau;PyTorch   \n",
       "1  Tableau;NumPy;Docker;Pandas;Model Deployment;D...   \n",
       "2  Regex;Keras;TensorFlow;AWS;Docker;Machine Lear...   \n",
       "3  Tableau;Machine Learning;Regex;Power BI;Kubern...   \n",
       "4  Data Visualization;Linux;NLP;NumPy;Deep Learni...   \n",
       "\n",
       "                                       clean_summary  \\\n",
       "0  Passionate Machine Learning Engineer 3 years e...   \n",
       "1  11 year experienced Data Scientist strong back...   \n",
       "2  Passionate QA Engineer 2 years experience data...   \n",
       "3  11 year experienced Business Analyst strong ba...   \n",
       "4  QA Engineer skilled Data Visualization Linux N...   \n",
       "\n",
       "             clean_job_title                              clean_education  \\\n",
       "0  Machine Learning Engineer  Tech Computer Science Delhi University 2017   \n",
       "1             Data Scientist               Tech Computer Science NIT 2021   \n",
       "2                QA Engineer                       Sc Statistics IIT 2023   \n",
       "3           Business Analyst               B Sc Computer Science VIT 2018   \n",
       "4                QA Engineer                    BCA Delhi University 2010   \n",
       "\n",
       "                                        clean_skills  \n",
       "0                   Azure Git Python Tableau PyTorch  \n",
       "1  Tableau NumPy Docker Pandas Model Deployment D...  \n",
       "2  Regex Keras TensorFlow AWS Docker Machine Lear...  \n",
       "3  Tableau Machine Learning Regex Power BI Kubern...  \n",
       "4  Data Visualization Linux NLP NumPy Deep Learni...  "
      ]
     },
     "execution_count": 20,
     "metadata": {},
     "output_type": "execute_result"
    }
   ],
   "source": [
    "new_dataset.head()"
   ]
  },
  {
   "cell_type": "code",
   "execution_count": 21,
   "id": "26f7b543-cafa-4635-b701-9a5ea4e98cc1",
   "metadata": {},
   "outputs": [],
   "source": [
    "final_dataset=new_dataset[[\"id\",\"clean_summary\",\"clean_job_title\",\"clean_education\",\"clean_skills\"]]"
   ]
  },
  {
   "cell_type": "code",
   "execution_count": 22,
   "id": "dccc46fb-f64b-4d13-97c5-a4d1aa872511",
   "metadata": {},
   "outputs": [
    {
     "data": {
      "text/html": [
       "<div>\n",
       "<style scoped>\n",
       "    .dataframe tbody tr th:only-of-type {\n",
       "        vertical-align: middle;\n",
       "    }\n",
       "\n",
       "    .dataframe tbody tr th {\n",
       "        vertical-align: top;\n",
       "    }\n",
       "\n",
       "    .dataframe thead th {\n",
       "        text-align: right;\n",
       "    }\n",
       "</style>\n",
       "<table border=\"1\" class=\"dataframe\">\n",
       "  <thead>\n",
       "    <tr style=\"text-align: right;\">\n",
       "      <th></th>\n",
       "      <th>id</th>\n",
       "      <th>clean_summary</th>\n",
       "      <th>clean_job_title</th>\n",
       "      <th>clean_education</th>\n",
       "      <th>clean_skills</th>\n",
       "    </tr>\n",
       "  </thead>\n",
       "  <tbody>\n",
       "    <tr>\n",
       "      <th>0</th>\n",
       "      <td>1</td>\n",
       "      <td>Passionate Machine Learning Engineer 3 years e...</td>\n",
       "      <td>Machine Learning Engineer</td>\n",
       "      <td>Tech Computer Science Delhi University 2017</td>\n",
       "      <td>Azure Git Python Tableau PyTorch</td>\n",
       "    </tr>\n",
       "    <tr>\n",
       "      <th>1</th>\n",
       "      <td>2</td>\n",
       "      <td>11 year experienced Data Scientist strong back...</td>\n",
       "      <td>Data Scientist</td>\n",
       "      <td>Tech Computer Science NIT 2021</td>\n",
       "      <td>Tableau NumPy Docker Pandas Model Deployment D...</td>\n",
       "    </tr>\n",
       "    <tr>\n",
       "      <th>2</th>\n",
       "      <td>3</td>\n",
       "      <td>Passionate QA Engineer 2 years experience data...</td>\n",
       "      <td>QA Engineer</td>\n",
       "      <td>Sc Statistics IIT 2023</td>\n",
       "      <td>Regex Keras TensorFlow AWS Docker Machine Lear...</td>\n",
       "    </tr>\n",
       "    <tr>\n",
       "      <th>3</th>\n",
       "      <td>4</td>\n",
       "      <td>11 year experienced Business Analyst strong ba...</td>\n",
       "      <td>Business Analyst</td>\n",
       "      <td>B Sc Computer Science VIT 2018</td>\n",
       "      <td>Tableau Machine Learning Regex Power BI Kubern...</td>\n",
       "    </tr>\n",
       "    <tr>\n",
       "      <th>4</th>\n",
       "      <td>5</td>\n",
       "      <td>QA Engineer skilled Data Visualization Linux N...</td>\n",
       "      <td>QA Engineer</td>\n",
       "      <td>BCA Delhi University 2010</td>\n",
       "      <td>Data Visualization Linux NLP NumPy Deep Learni...</td>\n",
       "    </tr>\n",
       "  </tbody>\n",
       "</table>\n",
       "</div>"
      ],
      "text/plain": [
       "   id                                      clean_summary  \\\n",
       "0   1  Passionate Machine Learning Engineer 3 years e...   \n",
       "1   2  11 year experienced Data Scientist strong back...   \n",
       "2   3  Passionate QA Engineer 2 years experience data...   \n",
       "3   4  11 year experienced Business Analyst strong ba...   \n",
       "4   5  QA Engineer skilled Data Visualization Linux N...   \n",
       "\n",
       "             clean_job_title                              clean_education  \\\n",
       "0  Machine Learning Engineer  Tech Computer Science Delhi University 2017   \n",
       "1             Data Scientist               Tech Computer Science NIT 2021   \n",
       "2                QA Engineer                       Sc Statistics IIT 2023   \n",
       "3           Business Analyst               B Sc Computer Science VIT 2018   \n",
       "4                QA Engineer                    BCA Delhi University 2010   \n",
       "\n",
       "                                        clean_skills  \n",
       "0                   Azure Git Python Tableau PyTorch  \n",
       "1  Tableau NumPy Docker Pandas Model Deployment D...  \n",
       "2  Regex Keras TensorFlow AWS Docker Machine Lear...  \n",
       "3  Tableau Machine Learning Regex Power BI Kubern...  \n",
       "4  Data Visualization Linux NLP NumPy Deep Learni...  "
      ]
     },
     "execution_count": 22,
     "metadata": {},
     "output_type": "execute_result"
    }
   ],
   "source": [
    "final_dataset.head()"
   ]
  },
  {
   "cell_type": "code",
   "execution_count": 23,
   "id": "4663cb94-7151-41c5-a43d-add1bf400691",
   "metadata": {},
   "outputs": [
    {
     "data": {
      "text/plain": [
       "'Data Visualization Linux NLP NumPy Deep Learning Kubernetes'"
      ]
     },
     "execution_count": 23,
     "metadata": {},
     "output_type": "execute_result"
    }
   ],
   "source": [
    "final_dataset.iloc[4].clean_skills"
   ]
  },
  {
   "cell_type": "code",
   "execution_count": 24,
   "id": "d79b3d65-fb90-46b9-8a46-1d360b36b290",
   "metadata": {},
   "outputs": [
    {
     "data": {
      "text/plain": [
       "'QA Engineer skilled Data Visualization Linux NLP 8 years experience building scalable systems deriving business insights'"
      ]
     },
     "execution_count": 24,
     "metadata": {},
     "output_type": "execute_result"
    }
   ],
   "source": [
    "final_dataset.iloc[4].clean_summary"
   ]
  },
  {
   "cell_type": "code",
   "execution_count": 25,
   "id": "79bfba25-5699-472b-b51c-98793d978eab",
   "metadata": {},
   "outputs": [
    {
     "data": {
      "text/plain": [
       "'BCA Delhi University 2010'"
      ]
     },
     "execution_count": 25,
     "metadata": {},
     "output_type": "execute_result"
    }
   ],
   "source": [
    "final_dataset.iloc[4].clean_education"
   ]
  },
  {
   "cell_type": "code",
   "execution_count": null,
   "id": "e21e9a4c-7643-4487-a256-5047939fcaad",
   "metadata": {},
   "outputs": [],
   "source": []
  },
  {
   "cell_type": "markdown",
   "id": "8405f6c4-67cc-408a-af4a-038913682d05",
   "metadata": {},
   "source": [
    "\n",
    "# Exploratory Data Analysis\n",
    "\n"
   ]
  },
  {
   "cell_type": "code",
   "execution_count": 26,
   "id": "f14b73fd-29d2-42d7-8453-044b98148502",
   "metadata": {},
   "outputs": [
    {
     "data": {
      "image/png": "[encoded data removed]",
      "text/plain": [
       "<Figure size 1500x500 with 1 Axes>"
      ]
     },
     "metadata": {},
     "output_type": "display_data"
    }
   ],
   "source": [
    "plt.figure(figsize=(15,5))\n",
    "sns.countplot(new_dataset['target_job_title'])\n",
    "plt.xticks(rotation=90)\n",
    "plt.show()"
   ]
  },
  {
   "cell_type": "code",
   "execution_count": 27,
   "id": "3abb97b5-d4ab-4a19-aea2-0421b0a2c4b7",
   "metadata": {},
   "outputs": [
    {
     "data": {
      "image/png": "[encoded data removed]",
      "text/plain": [
       "<Figure size 1500x1000 with 1 Axes>"
      ]
     },
     "metadata": {},
     "output_type": "display_data"
    }
   ],
   "source": [
    "counts = new_dataset['target_job_title'].value_counts()\n",
    "labels = new_dataset['target_job_title'].unique()\n",
    "plt.figure(figsize=(15,10))\n",
    "\n",
    "plt.pie(counts,labels=labels,autopct='%1.1f%%',shadow=True, colors=plt.cm.plasma(np.linspace(0,1,3)))\n",
    "plt.show()"
   ]
  },
  {
   "cell_type": "code",
   "execution_count": 28,
   "id": "ec1f2500-4dbc-410a-b6f3-a16eceec6228",
   "metadata": {},
   "outputs": [
    {
     "data": {
      "text/plain": [
       "id                 0\n",
       "clean_summary      0\n",
       "clean_job_title    0\n",
       "clean_education    0\n",
       "clean_skills       0\n",
       "dtype: int64"
      ]
     },
     "execution_count": 28,
     "metadata": {},
     "output_type": "execute_result"
    }
   ],
   "source": [
    "final_dataset.isnull().sum()"
   ]
  },
  {
   "cell_type": "code",
   "execution_count": 29,
   "id": "43629e09-7902-44c9-9e84-a4664503107a",
   "metadata": {},
   "outputs": [
    {
     "data": {
      "text/plain": [
       "np.int64(10000)"
      ]
     },
     "execution_count": 29,
     "metadata": {},
     "output_type": "execute_result"
    }
   ],
   "source": [
    "final_dataset.duplicated().count()"
   ]
  },
  {
   "cell_type": "markdown",
   "id": "96b1fb5d-8f23-45f2-a635-2e4429ead341",
   "metadata": {},
   "source": [
    "#balancing the dataset"
   ]
  },
  {
   "cell_type": "code",
   "execution_count": 30,
   "id": "71b1bbef-3f96-4fb0-aa5a-db15bcc8769a",
   "metadata": {},
   "outputs": [
    {
     "data": {
      "text/plain": [
       "clean_job_title\n",
       "QA Engineer                  871\n",
       "Machine Learning Engineer    866\n",
       "Data Analyst                 858\n",
       "Backend Developer            857\n",
       "Frontend Developer           848\n",
       "NLP Engineer                 841\n",
       "Data Scientist               837\n",
       "Business Analyst             813\n",
       "DevOps Engineer              813\n",
       "Software Engineer            806\n",
       "Full Stack Developer         801\n",
       "Computer Vision Engineer     789\n",
       "Name: count, dtype: int64"
      ]
     },
     "execution_count": 30,
     "metadata": {},
     "output_type": "execute_result"
    }
   ],
   "source": [
    "final_dataset['clean_job_title'].value_counts()"
   ]
  },
  {
   "cell_type": "code",
   "execution_count": 31,
   "id": "6353173d-c2a4-49f2-b2ec-6c8be2b1dab4",
   "metadata": {},
   "outputs": [
    {
     "data": {
      "text/html": [
       "<div>\n",
       "<style scoped>\n",
       "    .dataframe tbody tr th:only-of-type {\n",
       "        vertical-align: middle;\n",
       "    }\n",
       "\n",
       "    .dataframe tbody tr th {\n",
       "        vertical-align: top;\n",
       "    }\n",
       "\n",
       "    .dataframe thead th {\n",
       "        text-align: right;\n",
       "    }\n",
       "</style>\n",
       "<table border=\"1\" class=\"dataframe\">\n",
       "  <thead>\n",
       "    <tr style=\"text-align: right;\">\n",
       "      <th></th>\n",
       "      <th>id</th>\n",
       "      <th>clean_summary</th>\n",
       "      <th>clean_job_title</th>\n",
       "      <th>clean_education</th>\n",
       "      <th>clean_skills</th>\n",
       "    </tr>\n",
       "  </thead>\n",
       "  <tbody>\n",
       "    <tr>\n",
       "      <th>0</th>\n",
       "      <td>1</td>\n",
       "      <td>Passionate Machine Learning Engineer 3 years e...</td>\n",
       "      <td>Machine Learning Engineer</td>\n",
       "      <td>Tech Computer Science Delhi University 2017</td>\n",
       "      <td>Azure Git Python Tableau PyTorch</td>\n",
       "    </tr>\n",
       "    <tr>\n",
       "      <th>1</th>\n",
       "      <td>2</td>\n",
       "      <td>11 year experienced Data Scientist strong back...</td>\n",
       "      <td>Data Scientist</td>\n",
       "      <td>Tech Computer Science NIT 2021</td>\n",
       "      <td>Tableau NumPy Docker Pandas Model Deployment D...</td>\n",
       "    </tr>\n",
       "    <tr>\n",
       "      <th>2</th>\n",
       "      <td>3</td>\n",
       "      <td>Passionate QA Engineer 2 years experience data...</td>\n",
       "      <td>QA Engineer</td>\n",
       "      <td>Sc Statistics IIT 2023</td>\n",
       "      <td>Regex Keras TensorFlow AWS Docker Machine Lear...</td>\n",
       "    </tr>\n",
       "    <tr>\n",
       "      <th>3</th>\n",
       "      <td>4</td>\n",
       "      <td>11 year experienced Business Analyst strong ba...</td>\n",
       "      <td>Business Analyst</td>\n",
       "      <td>B Sc Computer Science VIT 2018</td>\n",
       "      <td>Tableau Machine Learning Regex Power BI Kubern...</td>\n",
       "    </tr>\n",
       "    <tr>\n",
       "      <th>4</th>\n",
       "      <td>5</td>\n",
       "      <td>QA Engineer skilled Data Visualization Linux N...</td>\n",
       "      <td>QA Engineer</td>\n",
       "      <td>BCA Delhi University 2010</td>\n",
       "      <td>Data Visualization Linux NLP NumPy Deep Learni...</td>\n",
       "    </tr>\n",
       "  </tbody>\n",
       "</table>\n",
       "</div>"
      ],
      "text/plain": [
       "   id                                      clean_summary  \\\n",
       "0   1  Passionate Machine Learning Engineer 3 years e...   \n",
       "1   2  11 year experienced Data Scientist strong back...   \n",
       "2   3  Passionate QA Engineer 2 years experience data...   \n",
       "3   4  11 year experienced Business Analyst strong ba...   \n",
       "4   5  QA Engineer skilled Data Visualization Linux N...   \n",
       "\n",
       "             clean_job_title                              clean_education  \\\n",
       "0  Machine Learning Engineer  Tech Computer Science Delhi University 2017   \n",
       "1             Data Scientist               Tech Computer Science NIT 2021   \n",
       "2                QA Engineer                       Sc Statistics IIT 2023   \n",
       "3           Business Analyst               B Sc Computer Science VIT 2018   \n",
       "4                QA Engineer                    BCA Delhi University 2010   \n",
       "\n",
       "                                        clean_skills  \n",
       "0                   Azure Git Python Tableau PyTorch  \n",
       "1  Tableau NumPy Docker Pandas Model Deployment D...  \n",
       "2  Regex Keras TensorFlow AWS Docker Machine Lear...  \n",
       "3  Tableau Machine Learning Regex Power BI Kubern...  \n",
       "4  Data Visualization Linux NLP NumPy Deep Learni...  "
      ]
     },
     "execution_count": 31,
     "metadata": {},
     "output_type": "execute_result"
    }
   ],
   "source": [
    "final_dataset.head()"
   ]
  },
  {
   "cell_type": "code",
   "execution_count": 32,
   "id": "b89e96b7-b8b9-45f1-990e-5f9deaf3f4e0",
   "metadata": {},
   "outputs": [
    {
     "data": {
      "text/plain": [
       "0       [Passionate, Machine, Learning, Engineer, 3, y...\n",
       "1       [11, year, experienced, Data, Scientist, stron...\n",
       "2       [Passionate, QA, Engineer, 2, years, experienc...\n",
       "3       [11, year, experienced, Business, Analyst, str...\n",
       "4       [QA, Engineer, skilled, Data, Visualization, L...\n",
       "                              ...                        \n",
       "9995    [Computer, Vision, Engineer, skilled, SQL, PyT...\n",
       "9996    [7, year, experienced, Data, Scientist, strong...\n",
       "9997    [NLP, Engineer, skilled, Feature, Engineering,...\n",
       "9998    [2, year, experienced, QA, Engineer, strong, b...\n",
       "9999    [8, year, experienced, QA, Engineer, strong, b...\n",
       "Name: clean_summary, Length: 10000, dtype: object"
      ]
     },
     "execution_count": 32,
     "metadata": {},
     "output_type": "execute_result"
    }
   ],
   "source": [
    "final_dataset['clean_summary'].apply(lambda x: x.split())\n",
    "\n"
   ]
  },
  {
   "cell_type": "code",
   "execution_count": 33,
   "id": "61bf350c-8c4f-434c-8b25-2c3f2fe5dfcc",
   "metadata": {},
   "outputs": [
    {
     "data": {
      "text/plain": [
       "0       [Machine, Learning, Engineer]\n",
       "1                   [Data, Scientist]\n",
       "2                      [QA, Engineer]\n",
       "3                 [Business, Analyst]\n",
       "4                      [QA, Engineer]\n",
       "                    ...              \n",
       "9995     [Computer, Vision, Engineer]\n",
       "9996                [Data, Scientist]\n",
       "9997                  [NLP, Engineer]\n",
       "9998                   [QA, Engineer]\n",
       "9999                   [QA, Engineer]\n",
       "Name: clean_job_title, Length: 10000, dtype: object"
      ]
     },
     "execution_count": 33,
     "metadata": {},
     "output_type": "execute_result"
    }
   ],
   "source": [
    "final_dataset['clean_job_title'].apply(lambda x: x.split())"
   ]
  },
  {
   "cell_type": "code",
   "execution_count": 34,
   "id": "a58323ed-875a-47c9-a3b5-ab4eae08dea2",
   "metadata": {},
   "outputs": [
    {
     "data": {
      "text/plain": [
       "0       [Tech, Computer, Science, Delhi, University, 2...\n",
       "1                    [Tech, Computer, Science, NIT, 2021]\n",
       "2                             [Sc, Statistics, IIT, 2023]\n",
       "3                   [B, Sc, Computer, Science, VIT, 2018]\n",
       "4                          [BCA, Delhi, University, 2010]\n",
       "                              ...                        \n",
       "9995           [B, E, Information, Technology, VIT, 2011]\n",
       "9996            [Data, Science, Mumbai, University, 2014]\n",
       "9997    [Tech, Computer, Science, Mumbai, University, ...\n",
       "9998    [B, Tech, Computer, Science, Delhi, University...\n",
       "9999        [Tech, Computer, Science, BITS, Pilani, 2012]\n",
       "Name: clean_education, Length: 10000, dtype: object"
      ]
     },
     "execution_count": 34,
     "metadata": {},
     "output_type": "execute_result"
    }
   ],
   "source": [
    "final_dataset['clean_education'].apply(lambda x: x.split())"
   ]
  },
  {
   "cell_type": "code",
   "execution_count": 35,
   "id": "d8246872-551d-439a-b2d7-8365b97aa75d",
   "metadata": {},
   "outputs": [
    {
     "data": {
      "text/plain": [
       "0                  [Azure, Git, Python, Tableau, PyTorch]\n",
       "1       [Tableau, NumPy, Docker, Pandas, Model, Deploy...\n",
       "2       [Regex, Keras, TensorFlow, AWS, Docker, Machin...\n",
       "3       [Tableau, Machine, Learning, Regex, Power, BI,...\n",
       "4       [Data, Visualization, Linux, NLP, NumPy, Deep,...\n",
       "                              ...                        \n",
       "9995                          [SQL, PyTorch, Docker, NLP]\n",
       "9996    [Feature, Engineering, Regex, NLP, Azure, Tabl...\n",
       "9997    [Feature, Engineering, Hadoop, scikit, learn, ...\n",
       "9998                            [Python, Regex, SQL, GCP]\n",
       "9999    [Feature, Engineering, Tableau, Statistics, Te...\n",
       "Name: clean_skills, Length: 10000, dtype: object"
      ]
     },
     "execution_count": 35,
     "metadata": {},
     "output_type": "execute_result"
    }
   ],
   "source": [
    "final_dataset['clean_skills'].apply(lambda x: x.split())"
   ]
  },
  {
   "cell_type": "code",
   "execution_count": 36,
   "id": "8dbe4aca-fd3e-48fb-ace7-6f0374b658a3",
   "metadata": {},
   "outputs": [
    {
     "name": "stderr",
     "output_type": "stream",
     "text": [
      "C:\\Users\\dellll\\AppData\\Local\\Temp\\ipykernel_14592\\1549610156.py:1: SettingWithCopyWarning: \n",
      "A value is trying to be set on a copy of a slice from a DataFrame.\n",
      "Try using .loc[row_indexer,col_indexer] = value instead\n",
      "\n",
      "See the caveats in the documentation: https://pandas.pydata.org/pandas-docs/stable/user_guide/indexing.html#returning-a-view-versus-a-copy\n",
      "  final_dataset['overview']= final_dataset['clean_summary']+final_dataset['clean_education']+final_dataset['clean_skills']\n"
     ]
    }
   ],
   "source": [
    "final_dataset['overview']= final_dataset['clean_summary']+final_dataset['clean_education']+final_dataset['clean_skills']"
   ]
  },
  {
   "cell_type": "code",
   "execution_count": 37,
   "id": "be8e6de3-b8ad-45b8-83e2-5d336c6d3ee7",
   "metadata": {},
   "outputs": [
    {
     "data": {
      "text/html": [
       "<div>\n",
       "<style scoped>\n",
       "    .dataframe tbody tr th:only-of-type {\n",
       "        vertical-align: middle;\n",
       "    }\n",
       "\n",
       "    .dataframe tbody tr th {\n",
       "        vertical-align: top;\n",
       "    }\n",
       "\n",
       "    .dataframe thead th {\n",
       "        text-align: right;\n",
       "    }\n",
       "</style>\n",
       "<table border=\"1\" class=\"dataframe\">\n",
       "  <thead>\n",
       "    <tr style=\"text-align: right;\">\n",
       "      <th></th>\n",
       "      <th>id</th>\n",
       "      <th>clean_summary</th>\n",
       "      <th>clean_job_title</th>\n",
       "      <th>clean_education</th>\n",
       "      <th>clean_skills</th>\n",
       "      <th>overview</th>\n",
       "    </tr>\n",
       "  </thead>\n",
       "  <tbody>\n",
       "    <tr>\n",
       "      <th>0</th>\n",
       "      <td>1</td>\n",
       "      <td>Passionate Machine Learning Engineer 3 years e...</td>\n",
       "      <td>Machine Learning Engineer</td>\n",
       "      <td>Tech Computer Science Delhi University 2017</td>\n",
       "      <td>Azure Git Python Tableau PyTorch</td>\n",
       "      <td>Passionate Machine Learning Engineer 3 years e...</td>\n",
       "    </tr>\n",
       "    <tr>\n",
       "      <th>1</th>\n",
       "      <td>2</td>\n",
       "      <td>11 year experienced Data Scientist strong back...</td>\n",
       "      <td>Data Scientist</td>\n",
       "      <td>Tech Computer Science NIT 2021</td>\n",
       "      <td>Tableau NumPy Docker Pandas Model Deployment D...</td>\n",
       "      <td>11 year experienced Data Scientist strong back...</td>\n",
       "    </tr>\n",
       "    <tr>\n",
       "      <th>2</th>\n",
       "      <td>3</td>\n",
       "      <td>Passionate QA Engineer 2 years experience data...</td>\n",
       "      <td>QA Engineer</td>\n",
       "      <td>Sc Statistics IIT 2023</td>\n",
       "      <td>Regex Keras TensorFlow AWS Docker Machine Lear...</td>\n",
       "      <td>Passionate QA Engineer 2 years experience data...</td>\n",
       "    </tr>\n",
       "    <tr>\n",
       "      <th>3</th>\n",
       "      <td>4</td>\n",
       "      <td>11 year experienced Business Analyst strong ba...</td>\n",
       "      <td>Business Analyst</td>\n",
       "      <td>B Sc Computer Science VIT 2018</td>\n",
       "      <td>Tableau Machine Learning Regex Power BI Kubern...</td>\n",
       "      <td>11 year experienced Business Analyst strong ba...</td>\n",
       "    </tr>\n",
       "    <tr>\n",
       "      <th>4</th>\n",
       "      <td>5</td>\n",
       "      <td>QA Engineer skilled Data Visualization Linux N...</td>\n",
       "      <td>QA Engineer</td>\n",
       "      <td>BCA Delhi University 2010</td>\n",
       "      <td>Data Visualization Linux NLP NumPy Deep Learni...</td>\n",
       "      <td>QA Engineer skilled Data Visualization Linux N...</td>\n",
       "    </tr>\n",
       "  </tbody>\n",
       "</table>\n",
       "</div>"
      ],
      "text/plain": [
       "   id                                      clean_summary  \\\n",
       "0   1  Passionate Machine Learning Engineer 3 years e...   \n",
       "1   2  11 year experienced Data Scientist strong back...   \n",
       "2   3  Passionate QA Engineer 2 years experience data...   \n",
       "3   4  11 year experienced Business Analyst strong ba...   \n",
       "4   5  QA Engineer skilled Data Visualization Linux N...   \n",
       "\n",
       "             clean_job_title                              clean_education  \\\n",
       "0  Machine Learning Engineer  Tech Computer Science Delhi University 2017   \n",
       "1             Data Scientist               Tech Computer Science NIT 2021   \n",
       "2                QA Engineer                       Sc Statistics IIT 2023   \n",
       "3           Business Analyst               B Sc Computer Science VIT 2018   \n",
       "4                QA Engineer                    BCA Delhi University 2010   \n",
       "\n",
       "                                        clean_skills  \\\n",
       "0                   Azure Git Python Tableau PyTorch   \n",
       "1  Tableau NumPy Docker Pandas Model Deployment D...   \n",
       "2  Regex Keras TensorFlow AWS Docker Machine Lear...   \n",
       "3  Tableau Machine Learning Regex Power BI Kubern...   \n",
       "4  Data Visualization Linux NLP NumPy Deep Learni...   \n",
       "\n",
       "                                            overview  \n",
       "0  Passionate Machine Learning Engineer 3 years e...  \n",
       "1  11 year experienced Data Scientist strong back...  \n",
       "2  Passionate QA Engineer 2 years experience data...  \n",
       "3  11 year experienced Business Analyst strong ba...  \n",
       "4  QA Engineer skilled Data Visualization Linux N...  "
      ]
     },
     "execution_count": 37,
     "metadata": {},
     "output_type": "execute_result"
    }
   ],
   "source": [
    "final_dataset.head()"
   ]
  },
  {
   "cell_type": "code",
   "execution_count": 38,
   "id": "bfd5a0f6-9c6a-41ff-b752-bec0700a4a5f",
   "metadata": {},
   "outputs": [
    {
     "data": {
      "text/plain": [
       "'QA Engineer skilled Data Visualization Linux NLP 8 years experience building scalable systems deriving business insightsBCA Delhi University 2010Data Visualization Linux NLP NumPy Deep Learning Kubernetes'"
      ]
     },
     "execution_count": 38,
     "metadata": {},
     "output_type": "execute_result"
    }
   ],
   "source": [
    "final_dataset.iloc[4].overview"
   ]
  },
  {
   "cell_type": "code",
   "execution_count": 39,
   "id": "6b079c1a-058f-437b-8b56-7a2165e7842d",
   "metadata": {},
   "outputs": [],
   "source": [
    "final_dataset=final_dataset[[\"id\",\"clean_job_title\",\"overview\"]]"
   ]
  },
  {
   "cell_type": "code",
   "execution_count": 40,
   "id": "11ff5305-7d8e-475f-b74a-42bd580cd9d3",
   "metadata": {},
   "outputs": [
    {
     "data": {
      "text/html": [
       "<div>\n",
       "<style scoped>\n",
       "    .dataframe tbody tr th:only-of-type {\n",
       "        vertical-align: middle;\n",
       "    }\n",
       "\n",
       "    .dataframe tbody tr th {\n",
       "        vertical-align: top;\n",
       "    }\n",
       "\n",
       "    .dataframe thead th {\n",
       "        text-align: right;\n",
       "    }\n",
       "</style>\n",
       "<table border=\"1\" class=\"dataframe\">\n",
       "  <thead>\n",
       "    <tr style=\"text-align: right;\">\n",
       "      <th></th>\n",
       "      <th>id</th>\n",
       "      <th>clean_job_title</th>\n",
       "      <th>overview</th>\n",
       "    </tr>\n",
       "  </thead>\n",
       "  <tbody>\n",
       "    <tr>\n",
       "      <th>0</th>\n",
       "      <td>1</td>\n",
       "      <td>Machine Learning Engineer</td>\n",
       "      <td>Passionate Machine Learning Engineer 3 years e...</td>\n",
       "    </tr>\n",
       "    <tr>\n",
       "      <th>1</th>\n",
       "      <td>2</td>\n",
       "      <td>Data Scientist</td>\n",
       "      <td>11 year experienced Data Scientist strong back...</td>\n",
       "    </tr>\n",
       "    <tr>\n",
       "      <th>2</th>\n",
       "      <td>3</td>\n",
       "      <td>QA Engineer</td>\n",
       "      <td>Passionate QA Engineer 2 years experience data...</td>\n",
       "    </tr>\n",
       "    <tr>\n",
       "      <th>3</th>\n",
       "      <td>4</td>\n",
       "      <td>Business Analyst</td>\n",
       "      <td>11 year experienced Business Analyst strong ba...</td>\n",
       "    </tr>\n",
       "    <tr>\n",
       "      <th>4</th>\n",
       "      <td>5</td>\n",
       "      <td>QA Engineer</td>\n",
       "      <td>QA Engineer skilled Data Visualization Linux N...</td>\n",
       "    </tr>\n",
       "  </tbody>\n",
       "</table>\n",
       "</div>"
      ],
      "text/plain": [
       "   id            clean_job_title  \\\n",
       "0   1  Machine Learning Engineer   \n",
       "1   2             Data Scientist   \n",
       "2   3                QA Engineer   \n",
       "3   4           Business Analyst   \n",
       "4   5                QA Engineer   \n",
       "\n",
       "                                            overview  \n",
       "0  Passionate Machine Learning Engineer 3 years e...  \n",
       "1  11 year experienced Data Scientist strong back...  \n",
       "2  Passionate QA Engineer 2 years experience data...  \n",
       "3  11 year experienced Business Analyst strong ba...  \n",
       "4  QA Engineer skilled Data Visualization Linux N...  "
      ]
     },
     "execution_count": 40,
     "metadata": {},
     "output_type": "execute_result"
    }
   ],
   "source": [
    "final_dataset.head()"
   ]
  },
  {
   "cell_type": "code",
   "execution_count": 41,
   "id": "b0a83ed1-a99a-4440-bc65-f43599deda56",
   "metadata": {},
   "outputs": [
    {
     "ename": "NameError",
     "evalue": "name 'y' is not defined",
     "output_type": "error",
     "traceback": [
      "\u001b[31m---------------------------------------------------------------------------\u001b[39m",
      "\u001b[31mNameError\u001b[39m                                 Traceback (most recent call last)",
      "\u001b[36mCell\u001b[39m\u001b[36m \u001b[39m\u001b[32mIn[41]\u001b[39m\u001b[32m, line 1\u001b[39m\n\u001b[32m----> \u001b[39m\u001b[32m1\u001b[39m \u001b[38;5;28mprint\u001b[39m(\u001b[43my\u001b[49m.nunique(), \u001b[38;5;28mlen\u001b[39m(y))\n\u001b[32m      2\u001b[39m \u001b[38;5;28mprint\u001b[39m(y.value_counts().head(\u001b[32m10\u001b[39m))\n",
      "\u001b[31mNameError\u001b[39m: name 'y' is not defined"
     ]
    }
   ],
   "source": [
    "print(y.nunique(), len(y))\n",
    "print(y.value_counts().head(10))\n"
   ]
  },
  {
   "cell_type": "code",
   "execution_count": 42,
   "id": "9f125c6f-70b5-428c-b5f5-745355258a66",
   "metadata": {},
   "outputs": [
    {
     "data": {
      "text/html": [
       "<div>\n",
       "<style scoped>\n",
       "    .dataframe tbody tr th:only-of-type {\n",
       "        vertical-align: middle;\n",
       "    }\n",
       "\n",
       "    .dataframe tbody tr th {\n",
       "        vertical-align: top;\n",
       "    }\n",
       "\n",
       "    .dataframe thead th {\n",
       "        text-align: right;\n",
       "    }\n",
       "</style>\n",
       "<table border=\"1\" class=\"dataframe\">\n",
       "  <thead>\n",
       "    <tr style=\"text-align: right;\">\n",
       "      <th></th>\n",
       "      <th>id</th>\n",
       "      <th>clean_job_title</th>\n",
       "      <th>overview</th>\n",
       "    </tr>\n",
       "  </thead>\n",
       "  <tbody>\n",
       "    <tr>\n",
       "      <th>0</th>\n",
       "      <td>1</td>\n",
       "      <td>Machine Learning Engineer</td>\n",
       "      <td>Passionate Machine Learning Engineer 3 years e...</td>\n",
       "    </tr>\n",
       "    <tr>\n",
       "      <th>1</th>\n",
       "      <td>2</td>\n",
       "      <td>Data Scientist</td>\n",
       "      <td>11 year experienced Data Scientist strong back...</td>\n",
       "    </tr>\n",
       "    <tr>\n",
       "      <th>2</th>\n",
       "      <td>3</td>\n",
       "      <td>QA Engineer</td>\n",
       "      <td>Passionate QA Engineer 2 years experience data...</td>\n",
       "    </tr>\n",
       "    <tr>\n",
       "      <th>3</th>\n",
       "      <td>4</td>\n",
       "      <td>Business Analyst</td>\n",
       "      <td>11 year experienced Business Analyst strong ba...</td>\n",
       "    </tr>\n",
       "    <tr>\n",
       "      <th>4</th>\n",
       "      <td>5</td>\n",
       "      <td>QA Engineer</td>\n",
       "      <td>QA Engineer skilled Data Visualization Linux N...</td>\n",
       "    </tr>\n",
       "  </tbody>\n",
       "</table>\n",
       "</div>"
      ],
      "text/plain": [
       "   id            clean_job_title  \\\n",
       "0   1  Machine Learning Engineer   \n",
       "1   2             Data Scientist   \n",
       "2   3                QA Engineer   \n",
       "3   4           Business Analyst   \n",
       "4   5                QA Engineer   \n",
       "\n",
       "                                            overview  \n",
       "0  Passionate Machine Learning Engineer 3 years e...  \n",
       "1  11 year experienced Data Scientist strong back...  \n",
       "2  Passionate QA Engineer 2 years experience data...  \n",
       "3  11 year experienced Business Analyst strong ba...  \n",
       "4  QA Engineer skilled Data Visualization Linux N...  "
      ]
     },
     "execution_count": 42,
     "metadata": {},
     "output_type": "execute_result"
    }
   ],
   "source": [
    "final_dataset.head()"
   ]
  },
  {
   "cell_type": "code",
   "execution_count": 43,
   "id": "7850120d-6d28-481e-a208-2e118b1f3277",
   "metadata": {},
   "outputs": [
    {
     "name": "stdout",
     "output_type": "stream",
     "text": [
      "                           precision    recall  f1-score   support\n",
      "\n",
      "        Backend Developer       1.00      1.00      1.00       171\n",
      "         Business Analyst       1.00      1.00      1.00       163\n",
      " Computer Vision Engineer       1.00      1.00      1.00       158\n",
      "             Data Analyst       1.00      1.00      1.00       172\n",
      "           Data Scientist       1.00      1.00      1.00       167\n",
      "          DevOps Engineer       1.00      1.00      1.00       163\n",
      "       Frontend Developer       1.00      1.00      1.00       170\n",
      "     Full Stack Developer       1.00      1.00      1.00       160\n",
      "Machine Learning Engineer       1.00      1.00      1.00       173\n",
      "             NLP Engineer       1.00      1.00      1.00       168\n",
      "              QA Engineer       1.00      1.00      1.00       174\n",
      "        Software Engineer       1.00      1.00      1.00       161\n",
      "\n",
      "                 accuracy                           1.00      2000\n",
      "                macro avg       1.00      1.00      1.00      2000\n",
      "             weighted avg       1.00      1.00      1.00      2000\n",
      "\n",
      "Accuracy: 1.0\n",
      "Confusion matrix:\n",
      " [[171   0   0   0   0   0   0   0   0   0   0   0]\n",
      " [  0 163   0   0   0   0   0   0   0   0   0   0]\n",
      " [  0   0 158   0   0   0   0   0   0   0   0   0]\n",
      " [  0   0   0 172   0   0   0   0   0   0   0   0]\n",
      " [  0   0   0   0 167   0   0   0   0   0   0   0]\n",
      " [  0   0   0   0   0 163   0   0   0   0   0   0]\n",
      " [  0   0   0   0   0   0 170   0   0   0   0   0]\n",
      " [  0   0   0   0   0   0   0 160   0   0   0   0]\n",
      " [  0   0   0   0   0   0   0   0 173   0   0   0]\n",
      " [  0   0   0   0   0   0   0   0   0 168   0   0]\n",
      " [  0   0   0   0   0   0   0   0   0   0 174   0]\n",
      " [  0   0   0   0   0   0   0   0   0   0   0 161]]\n"
     ]
    }
   ],
   "source": [
    "import pandas as pd\n",
    "from sklearn.model_selection import train_test_split\n",
    "from sklearn.feature_extraction.text import TfidfVectorizer\n",
    "from sklearn.linear_model import LogisticRegression\n",
    "from sklearn.metrics import classification_report, confusion_matrix, accuracy_score\n",
    "\n",
    "# Example: suppose df is already loaded\n",
    "# X = features (text), y = labels (categories)\n",
    "X = final_dataset[\"overview\"]      # input text column\n",
    "y = final_dataset[\"clean_job_title\"]             # target/label column\n",
    "\n",
    "# 2) Split\n",
    "X_train, X_test, y_train, y_test = train_test_split(\n",
    "    X, y, test_size=0.2, random_state=42, stratify=y\n",
    ")\n",
    "\n",
    "# 3) Vectorize text\n",
    "tfidf = TfidfVectorizer(min_df=2, max_features=5000,\n",
    "                        stop_words=\"english\", ngram_range=(1, 3))\n",
    "X_train_tfidf = tfidf.fit_transform(X_train)\n",
    "X_test_tfidf = tfidf.transform(X_test)\n",
    "\n",
    "# 4) Train model\n",
    "model = LogisticRegression(class_weight=\"balanced\", max_iter=1000)\n",
    "model.fit(X_train_tfidf, y_train)\n",
    "\n",
    "# 5) Predict & evaluate\n",
    "y_pred = model.predict(X_test_tfidf)\n",
    "\n",
    "print(classification_report(y_test, y_pred))\n",
    "print(\"Accuracy:\", accuracy_score(y_test, y_pred))\n",
    "print(\"Confusion matrix:\\n\", confusion_matrix(y_test, y_pred))\n"
   ]
  },
  {
   "cell_type": "code",
   "execution_count": 44,
   "id": "b4e331d2",
   "metadata": {},
   "outputs": [
    {
     "name": "stdout",
     "output_type": "stream",
     "text": [
      "Accuracy: 1.0\n",
      "                           precision    recall  f1-score   support\n",
      "\n",
      "        Backend Developer       1.00      1.00      1.00       171\n",
      "         Business Analyst       1.00      1.00      1.00       163\n",
      " Computer Vision Engineer       1.00      1.00      1.00       158\n",
      "             Data Analyst       1.00      1.00      1.00       172\n",
      "           Data Scientist       1.00      1.00      1.00       167\n",
      "          DevOps Engineer       1.00      1.00      1.00       163\n",
      "       Frontend Developer       1.00      1.00      1.00       170\n",
      "     Full Stack Developer       1.00      1.00      1.00       160\n",
      "Machine Learning Engineer       1.00      1.00      1.00       173\n",
      "             NLP Engineer       1.00      1.00      1.00       168\n",
      "              QA Engineer       1.00      1.00      1.00       174\n",
      "        Software Engineer       1.00      1.00      1.00       161\n",
      "\n",
      "                 accuracy                           1.00      2000\n",
      "                macro avg       1.00      1.00      1.00      2000\n",
      "             weighted avg       1.00      1.00      1.00      2000\n",
      "\n"
     ]
    },
    {
     "data": {
      "image/png": "[encoded data removed]",
      "text/plain": [
       "<Figure size 1000x800 with 2 Axes>"
      ]
     },
     "metadata": {},
     "output_type": "display_data"
    }
   ],
   "source": [
    "from sklearn.metrics import classification_report\n",
    "\n",
    "rf_classifier = RandomForestClassifier()\n",
    "rf_classifier.fit(X_train_tfidf, y_train)\n",
    "\n",
    "# Step 4: Accuracy Evaluation\n",
    "y_pred = rf_classifier.predict(X_test_tfidf)\n",
    "accuracy = accuracy_score(y_test, y_pred)\n",
    "print(\"Accuracy:\", accuracy)\n",
    "print(classification_report(y_test,y_pred))\n",
    "# Confusion Matrix\n",
    "conf_matrix = confusion_matrix(y_test, y_pred)\n",
    "plt.figure(figsize=(10, 8))\n",
    "sns.heatmap(conf_matrix, annot=True, fmt='d', cmap='Blues', xticklabels=rf_classifier.classes_, yticklabels=rf_classifier.classes_)\n",
    "plt.xlabel('Predicted')\n",
    "plt.ylabel('True')\n",
    "plt.title('Confusion Matrix')\n",
    "plt.show()"
   ]
  },
  {
   "cell_type": "code",
   "execution_count": null,
   "id": "378d6291-3188-44fa-bf86-b46de3135dc0",
   "metadata": {},
   "outputs": [
    {
     "data": {
      "image/png": "[encoded data removed]",
      "text/plain": [
       "<Figure size 500x400 with 2 Axes>"
      ]
     },
     "metadata": {},
     "output_type": "display_data"
    }
   ],
   "source": [
    "from sklearn.feature_extraction.text import TfidfVectorizer\n",
    "from sklearn.linear_model import LogisticRegression\n",
    "from sklearn.metrics import classification_report, confusion_matrix, accuracy_score\n",
    "\n",
    "conf_matrix = confusion_matrix(y_test, y_pred)\n",
    "plt.figure(figsize=(5, 4))\n",
    "sns.heatmap(conf_matrix, annot=True, fmt='d', cmap='Blues', xticklabels=rf_classifier.classes_, yticklabels=rf_classifier.classes_)\n",
    "plt.xlabel('Predicted')\n",
    "plt.ylabel('True')\n",
    "plt.title('Confusion Matrix')\n",
    "plt.show()"
   ]
  },
  {
   "cell_type": "code",
   "execution_count": null,
   "id": "0d25d401-c30f-468d-8f2f-b0b58619bb56",
   "metadata": {},
   "outputs": [],
   "source": []
  },
  {
   "cell_type": "code",
   "execution_count": 45,
   "id": "e1702150-4e99-484e-a761-aee303b2563c",
   "metadata": {},
   "outputs": [
    {
     "name": "stdout",
     "output_type": "stream",
     "text": [
      "Accuracy: 1.0\n"
     ]
    }
   ],
   "source": [
    "print(\"Accuracy:\", accuracy_score(y_test, y_pred))"
   ]
  },
  {
   "cell_type": "code",
   "execution_count": 46,
   "id": "1dcac305-b900-4e4c-8647-d79b60f43ab1",
   "metadata": {},
   "outputs": [
    {
     "name": "stdout",
     "output_type": "stream",
     "text": [
      "['Backend Developer' 'Business Analyst' 'Computer Vision Engineer'\n",
      " 'Data Analyst' 'Data Scientist' 'DevOps Engineer' 'Frontend Developer'\n",
      " 'Full Stack Developer' 'Machine Learning Engineer' 'NLP Engineer'\n",
      " 'QA Engineer' 'Software Engineer']\n",
      "[[0.   0.01 0.   0.03 0.93 0.01 0.   0.01 0.   0.01 0.   0.  ]\n",
      " [0.   0.   0.   0.03 0.97 0.   0.   0.   0.   0.   0.   0.  ]\n",
      " [0.88 0.   0.01 0.01 0.01 0.   0.02 0.06 0.   0.01 0.   0.  ]\n",
      " [0.   0.9  0.   0.05 0.02 0.   0.   0.02 0.   0.   0.   0.01]\n",
      " [0.   0.   0.01 0.01 0.95 0.   0.01 0.01 0.   0.01 0.   0.  ]]\n"
     ]
    }
   ],
   "source": [
    "from sklearn.pipeline import Pipeline\n",
    "from sklearn.feature_extraction.text import TfidfVectorizer\n",
    "from sklearn.linear_model import LogisticRegression\n",
    "\n",
    "# Create the pipeline\n",
    "pipe = Pipeline([\n",
    "    ('tfidf', TfidfVectorizer(min_df=2, max_features=5000,\n",
    "                              stop_words='english', ngram_range=(1,3))),\n",
    "    ('rf', RandomForestClassifier(n_estimators=100, class_weight='balanced', random_state=42))])\n",
    "\n",
    "# Train the pipeline\n",
    "pipe.fit(X_train, y_train)\n",
    "\n",
    "# Predict probabilities for first 10 test samples\n",
    "probs = pipe.predict_proba(X_test[:10])\n",
    "\n",
    "# Print classes and predicted probabilities\n",
    "print(pipe.classes_)\n",
    "print(probs[:5])\n",
    "\n"
   ]
  },
  {
   "cell_type": "code",
   "execution_count": 47,
   "id": "33062306-a3d2-483f-b34b-6ee20dd8da23",
   "metadata": {},
   "outputs": [
    {
     "name": "stdout",
     "output_type": "stream",
     "text": [
      "clean_job_title\n",
      "QA Engineer                  871\n",
      "Machine Learning Engineer    866\n",
      "Data Analyst                 858\n",
      "Backend Developer            857\n",
      "Frontend Developer           848\n",
      "NLP Engineer                 841\n",
      "Data Scientist               837\n",
      "Business Analyst             813\n",
      "DevOps Engineer              813\n",
      "Software Engineer            806\n",
      "Full Stack Developer         801\n",
      "Computer Vision Engineer     789\n",
      "Name: count, dtype: int64\n"
     ]
    }
   ],
   "source": [
    "print(y.value_counts())\n"
   ]
  },
  {
   "cell_type": "code",
   "execution_count": 48,
   "id": "bd4ec0d2-1540-4a54-9804-0e30376f82bd",
   "metadata": {},
   "outputs": [
    {
     "data": {
      "text/plain": [
       "'0 year experienced Computer Vision Engineer strong background Deep Learning Statistics Regex Delivered end end ML solutions productionized modelsData Science SRM University 2014Deep Learning Statistics Regex Git Python Model Deployment GCP Pandas scikit learn'"
      ]
     },
     "execution_count": 48,
     "metadata": {},
     "output_type": "execute_result"
    }
   ],
   "source": [
    "final_dataset.iloc[222].overview"
   ]
  },
  {
   "cell_type": "code",
   "execution_count": 49,
   "id": "f214a275-da03-44d5-84f1-e26a025a8992",
   "metadata": {},
   "outputs": [
    {
     "name": "stdout",
     "output_type": "stream",
     "text": [
      "Predicted Category: Software Engineer\n"
     ]
    }
   ],
   "source": [
    "from sklearn.feature_extraction.text import TfidfVectorizer\n",
    "\n",
    "resume_text =\"\"\"Objective:\n",
    "Software Engineer passionate about building scalable web applications and backend systems.\n",
    "\n",
    "Education:\n",
    "- B.Tech in Computer Science, IIT Kanpur, GPA: 8.5/10\n",
    "\n",
    "Skills:\n",
    "- Python, Java, C++\n",
    "- Django, Flask, Spring Boot\n",
    "- REST APIs, Microservices\n",
    "- Git, Docker, Kubernetes\n",
    "\n",
    "Experience:\n",
    "Software Engineer | TechSoft Ltd.\n",
    "- Developed backend APIs in Django to support mobile applications.\n",
    "- Implemented microservices architecture using Docker and Kubernetes.\n",
    "- Collaborated with frontend team to build seamless web applications.\n",
    "\n",
    "Projects:\n",
    "- E-commerce web application\n",
    "- Online exam portal\n",
    "\"\"\"\n",
    "def predict_category(resume_text):\n",
    "    resume_text = cleanResume(resume_text)  # make sure this function exists\n",
    "    resume_tfidf = tfidf.transform([resume_text])  # use the trained TF-IDF\n",
    "    predicted_category = rf_classifier.predict(resume_tfidf)[0]  # use trained classifier\n",
    "    return predicted_category\n",
    "\n",
    "predicted_category = predict_category(resume_text)\n",
    "print(\"Predicted Category:\", predicted_category)"
   ]
  },
  {
   "cell_type": "code",
   "execution_count": 50,
   "id": "dadc092b",
   "metadata": {},
   "outputs": [
    {
     "name": "stdout",
     "output_type": "stream",
     "text": [
      "{'predicted_category': 'Software Engineer', 'email': None, 'phone': None, 'skills': ['python', 'java', 'c++', 'django', 'flask', 'spring boot', 'rest apis', 'microservices', 'git', 'docker', 'kubernetes'], 'education': ['- b.tech in computer science, iit kanpur, gpa: 8.5/10']}\n"
     ]
    }
   ],
   "source": [
    "import re\n",
    "from sklearn.feature_extraction.text import TfidfVectorizer\n",
    "\n",
    "# ----------------------------\n",
    "# 1️⃣ Sample resume text\n",
    "# ----------------------------\n",
    "resume_text = \"\"\"Objective:\n",
    "Software Engineer passionate about building scalable web applications and backend systems.\n",
    "\n",
    "Education:\n",
    "- B.Tech in Computer Science, IIT Kanpur, GPA: 8.5/10\n",
    "\n",
    "Skills:\n",
    "- Python, Java, C++\n",
    "- Django, Flask, Spring Boot\n",
    "- REST APIs, Microservices\n",
    "- Git, Docker, Kubernetes\n",
    "\n",
    "Experience:\n",
    "Software Engineer | TechSoft Ltd.\n",
    "- Developed backend APIs in Django to support mobile applications.\n",
    "- Implemented microservices architecture using Docker and Kubernetes.\n",
    "- Collaborated with frontend team to build seamless web applications.\n",
    "\n",
    "Projects:\n",
    "- E-commerce web application\n",
    "- Online exam portal\n",
    "\"\"\"\n",
    "\n",
    "# ----------------------------\n",
    "# 2️⃣ Feature Extraction Functions\n",
    "# ----------------------------\n",
    "def extract_email(text):\n",
    "    match = re.findall(r'\\S+@\\S+', text)\n",
    "    return match[0] if match else None\n",
    "\n",
    "def extract_phone(text):\n",
    "    match = re.findall(r'\\+?\\d[\\d\\s\\-]{7,}\\d', text)\n",
    "    return match[0] if match else None\n",
    "\n",
    "def extract_skills(text, skill_list=None):\n",
    "    if not skill_list:\n",
    "        # default common tech skills\n",
    "        skill_list = ['python','java','c++','django','flask','spring boot',\n",
    "                      'rest apis','microservices','git','docker','kubernetes',\n",
    "                      'tensorflow','pandas','numpy','scikit-learn','sql']\n",
    "    text_lower = text.lower()\n",
    "    skills_found = [skill for skill in skill_list if skill in text_lower]\n",
    "    return skills_found\n",
    "\n",
    "def extract_education(text):\n",
    "    edu_keywords = ['b.tech', 'bachelor', 'm.tech', 'master', 'phd', 'msc', 'bsc']\n",
    "    lines = text.lower().split('\\n')\n",
    "    education = [line.strip() for line in lines if any(k in line for k in edu_keywords)]\n",
    "    return education\n",
    "\n",
    "# ----------------------------\n",
    "# 3️⃣ Clean Resume Text\n",
    "# ----------------------------\n",
    "def cleanResume(text):\n",
    "    # lowercase\n",
    "    text = text.lower()\n",
    "    # remove special characters\n",
    "    text = re.sub(r'[^a-zA-Z0-9\\s]', ' ', text)\n",
    "    # remove multiple spaces\n",
    "    text = re.sub(r'\\s+', ' ', text)\n",
    "    return text.strip()\n",
    "\n",
    "# ----------------------------\n",
    "# 4️⃣ Prediction Function\n",
    "# ----------------------------\n",
    "def predict_resume(resume_text):\n",
    "    # 4a. Feature Extraction\n",
    "    email = extract_email(resume_text)\n",
    "    phone = extract_phone(resume_text)\n",
    "    skills = extract_skills(resume_text)\n",
    "    education = extract_education(resume_text)\n",
    "\n",
    "    # 4b. Clean and TF-IDF Transform\n",
    "    resume_cleaned = cleanResume(resume_text)\n",
    "    resume_tfidf = tfidf.transform([resume_cleaned])  # tfidf = trained TfidfVectorizer\n",
    "    predicted_category = rf_classifier.predict(resume_tfidf)[0]  # rf_classifier = trained classifier\n",
    "\n",
    "    # 4c. Return all\n",
    "    return {\n",
    "        'predicted_category': predicted_category,\n",
    "        'email': email,\n",
    "        'phone': phone,\n",
    "        'skills': skills,\n",
    "        'education': education\n",
    "    }\n",
    "\n",
    "# ----------------------------\n",
    "# 5️⃣ Run Prediction\n",
    "# ----------------------------\n",
    "result = predict_resume(resume_text)\n",
    "print(result)\n"
   ]
  },
  {
   "cell_type": "code",
   "execution_count": 54,
   "id": "44f25da3-ea3a-4ab0-8325-c6d2235ddcb4",
   "metadata": {},
   "outputs": [
    {
     "name": "stdout",
     "output_type": "stream",
     "text": [
      "✅ Model and TF-IDF saved successfully!\n"
     ]
    }
   ],
   "source": [
    "import pickle\n",
    "import os\n",
    "\n",
    "# Make a 'models' folder next to App.py\n",
    "if not os.path.exists(\"models\"):\n",
    "    os.makedirs(\"models\")\n",
    "\n",
    "\n",
    "# Save TF-IDF\n",
    "with open(\"models/tfidf_vectorizer_categorization.pkl\", \"wb\") as f:\n",
    "    pickle.dump(tfidf, f)\n",
    "\n",
    "# Save Model\n",
    "with open(\"models/rf_pipeline_categorization.pkl\", \"wb\") as f:\n",
    "    pickle.dump(rf_classifier, f)\n",
    "\n",
    "print(\"✅ Model and TF-IDF saved successfully!\")\n"
   ]
  },
  {
   "cell_type": "code",
   "execution_count": null,
   "id": "f479f5a1-fdb1-4527-b11c-af6c1d90ae55",
   "metadata": {},
   "outputs": [],
   "source": []
  },
  {
   "cell_type": "code",
   "execution_count": null,
   "id": "9f20e025-2ebc-499a-b499-f735f70940f5",
   "metadata": {},
   "outputs": [
    {
     "name": "stdout",
     "output_type": "stream",
     "text": [
      "C:\\Users\\dellll\n"
     ]
    }
   ],
   "source": [
    "import os\n",
    "print(os.getcwd())\n"
   ]
  },
  {
   "cell_type": "code",
   "execution_count": null,
   "id": "ddd918de-1742-4bda-b3f1-306590cdfc26",
   "metadata": {},
   "outputs": [],
   "source": []
  },
  {
   "cell_type": "code",
   "execution_count": null,
   "id": "2f2e567f-3ce5-4286-9ccb-0c2d95015260",
   "metadata": {},
   "outputs": [],
   "source": []
  },
  {
   "cell_type": "code",
   "execution_count": null,
   "id": "7a1a4f68-2cce-4d8d-b200-c672709beaa6",
   "metadata": {},
   "outputs": [],
   "source": []
  },
  {
   "cell_type": "code",
   "execution_count": null,
   "id": "5ebe8868-e424-4d54-b196-f962f1bc443a",
   "metadata": {},
   "outputs": [],
   "source": []
  }
 ],
 "metadata": {
  "kernelspec": {
   "display_name": "Python 3",
   "language": "python",
   "name": "python3"
  },
  "language_info": {
   "codemirror_mode": {
    "name": "ipython",
    "version": 3
   },
   "file_extension": ".py",
   "mimetype": "text/x-python",
   "name": "python",
   "nbconvert_exporter": "python",
   "pygments_lexer": "ipython3",
   "version": "3.11.5"
  }
 },
 "nbformat": 4,
 "nbformat_minor": 5
}
